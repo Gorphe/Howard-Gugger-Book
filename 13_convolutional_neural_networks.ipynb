{
  "nbformat": 4,
  "nbformat_minor": 0,
  "metadata": {
    "colab": {
      "name": "13 convolutional neural networks.ipynb",
      "provenance": [],
      "collapsed_sections": [],
      "authorship_tag": "ABX9TyMVhOQ9LyYExYZ1UALpFUiJ",
      "include_colab_link": true
    },
    "kernelspec": {
      "name": "python3",
      "display_name": "Python 3"
    },
    "language_info": {
      "name": "python"
    }
  },
  "cells": [
    {
      "cell_type": "markdown",
      "metadata": {
        "id": "view-in-github",
        "colab_type": "text"
      },
      "source": [
        "<a href=\"https://colab.research.google.com/github/Gorphe/Howard-Gugger-Book/blob/main/13_convolutional_neural_networks.ipynb\" target=\"_parent\"><img src=\"https://colab.research.google.com/assets/colab-badge.svg\" alt=\"Open In Colab\"/></a>"
      ]
    },
    {
      "cell_type": "markdown",
      "source": [
        "THE MAGIC OF CONVOLUTIONS"
      ],
      "metadata": {
        "id": "P2uu1hGJqznm"
      }
    },
    {
      "cell_type": "code",
      "source": [
        "from fastai.vision.all import *"
      ],
      "metadata": {
        "id": "k_yLLiBlrL36"
      },
      "execution_count": 1,
      "outputs": []
    },
    {
      "cell_type": "code",
      "execution_count": 2,
      "metadata": {
        "id": "ZA11HXydoa5K"
      },
      "outputs": [],
      "source": [
        "top_edge = tensor([\n",
        "    [-1,-1,-1],\n",
        "    [0, 0, 0],\n",
        "    [1, 1 ,1]\n",
        "]).float()\n",
        "\n",
        "#should be named down_edge"
      ]
    },
    {
      "cell_type": "code",
      "source": [
        "path = untar_data(URLs.MNIST_SAMPLE)"
      ],
      "metadata": {
        "colab": {
          "base_uri": "https://localhost:8080/",
          "height": 36
        },
        "id": "BDPCD2ISrZJn",
        "outputId": "9cfb7eeb-13ec-43e8-b6b1-4280a714b9ec"
      },
      "execution_count": 3,
      "outputs": [
        {
          "output_type": "display_data",
          "data": {
            "text/plain": [
              "<IPython.core.display.HTML object>"
            ],
            "text/html": [
              "\n",
              "<style>\n",
              "    /* Turns off some styling */\n",
              "    progress {\n",
              "        /* gets rid of default border in Firefox and Opera. */\n",
              "        border: none;\n",
              "        /* Needs to be in here for Safari polyfill so background images work as expected. */\n",
              "        background-size: auto;\n",
              "    }\n",
              "    .progress-bar-interrupted, .progress-bar-interrupted::-webkit-progress-bar {\n",
              "        background: #F44336;\n",
              "    }\n",
              "</style>\n"
            ]
          },
          "metadata": {}
        },
        {
          "output_type": "display_data",
          "data": {
            "text/plain": [
              "<IPython.core.display.HTML object>"
            ],
            "text/html": [
              "\n",
              "    <div>\n",
              "      <progress value='3219456' class='' max='3214948' style='width:300px; height:20px; vertical-align: middle;'></progress>\n",
              "      100.14% [3219456/3214948 00:00<00:00]\n",
              "    </div>\n",
              "    "
            ]
          },
          "metadata": {}
        }
      ]
    },
    {
      "cell_type": "code",
      "source": [
        "im3 = Image.open(path/'train'/'3'/'12.png')\n",
        "show_image(im3)"
      ],
      "metadata": {
        "colab": {
          "base_uri": "https://localhost:8080/",
          "height": 101
        },
        "id": "PSI1DD_5rdpX",
        "outputId": "e0a17fb9-b8da-49f1-c1a1-1481371db32b"
      },
      "execution_count": 4,
      "outputs": [
        {
          "output_type": "execute_result",
          "data": {
            "text/plain": [
              "<matplotlib.axes._subplots.AxesSubplot at 0x7fd382db3850>"
            ]
          },
          "metadata": {},
          "execution_count": 4
        },
        {
          "output_type": "display_data",
          "data": {
            "text/plain": [
              "<Figure size 72x72 with 1 Axes>"
            ],
            "image/png": "[encoded data removed]"
          },
          "metadata": {
            "needs_background": "light"
          }
        }
      ]
    },
    {
      "cell_type": "code",
      "source": [
        "im3_t = tensor(im3)"
      ],
      "metadata": {
        "id": "t7EIoyWerqoX"
      },
      "execution_count": 5,
      "outputs": []
    },
    {
      "cell_type": "code",
      "source": [
        "targ = im3_t[0:3,0:3]"
      ],
      "metadata": {
        "id": "prZwbnPssBg8"
      },
      "execution_count": 6,
      "outputs": []
    },
    {
      "cell_type": "code",
      "source": [
        "targ"
      ],
      "metadata": {
        "colab": {
          "base_uri": "https://localhost:8080/"
        },
        "id": "a5p0KjNVsGZ9",
        "outputId": "460a3963-ec58-468b-f331-a7910d27a4f2"
      },
      "execution_count": null,
      "outputs": [
        {
          "output_type": "execute_result",
          "data": {
            "text/plain": [
              "tensor([[0, 0, 0],\n",
              "        [0, 0, 0],\n",
              "        [0, 0, 0]], dtype=torch.uint8)"
            ]
          },
          "metadata": {},
          "execution_count": 11
        }
      ]
    },
    {
      "cell_type": "code",
      "source": [
        "conv = im3_t[0:3, 0:3]*top_edge"
      ],
      "metadata": {
        "id": "zj-_8NZTru7E"
      },
      "execution_count": 7,
      "outputs": []
    },
    {
      "cell_type": "code",
      "source": [
        "conv"
      ],
      "metadata": {
        "colab": {
          "base_uri": "https://localhost:8080/"
        },
        "id": "3q7Ce6nRr8sk",
        "outputId": "d3225a2e-801e-4557-9738-2c06453d50d9"
      },
      "execution_count": null,
      "outputs": [
        {
          "output_type": "execute_result",
          "data": {
            "text/plain": [
              "tensor([[-0., -0., -0.],\n",
              "        [0., 0., 0.],\n",
              "        [0., 0., 0.]])"
            ]
          },
          "metadata": {},
          "execution_count": 25
        }
      ]
    },
    {
      "cell_type": "code",
      "source": [
        "conv.sum()"
      ],
      "metadata": {
        "colab": {
          "base_uri": "https://localhost:8080/"
        },
        "id": "Ab0ViFjgsL3K",
        "outputId": "10f8680b-515f-4997-d821-084f4b79e21b"
      },
      "execution_count": 8,
      "outputs": [
        {
          "output_type": "execute_result",
          "data": {
            "text/plain": [
              "tensor(0.)"
            ]
          },
          "metadata": {},
          "execution_count": 8
        }
      ]
    },
    {
      "cell_type": "code",
      "source": [
        "import pandas as pd\n",
        "df = pd.DataFrame(im3_t[:10,:20])"
      ],
      "metadata": {
        "id": "HNBSWWDmsPxK"
      },
      "execution_count": 9,
      "outputs": []
    },
    {
      "cell_type": "code",
      "source": [
        "df"
      ],
      "metadata": {
        "colab": {
          "base_uri": "https://localhost:8080/",
          "height": 352
        },
        "id": "YQk3MX3qsZ3w",
        "outputId": "c5eb86ff-b1b1-44cf-de05-2e217e417b61"
      },
      "execution_count": 10,
      "outputs": [
        {
          "output_type": "execute_result",
          "data": {
            "text/plain": [
              "   0   1   2    3    4    5    6    7    8    9    10   11   12   13   14  \\\n",
              "0   0   0   0    0    0    0    0    0    0    0    0    0    0    0    0   \n",
              "1   0   0   0    0    0    0    0    0    0    0    0    0    0    0    0   \n",
              "2   0   0   0    0    0    0    0    0    0    0    0    0    0    0    0   \n",
              "3   0   0   0    0    0    0    0    0    0    0    0    0    0    0    0   \n",
              "4   0   0   0    0    0    0    0    0    0    0    0    0    0    0    0   \n",
              "5   0   0   0   12   99   91  142  155  246  182  155  155  155  155  131   \n",
              "6   0   0   0  138  254  254  254  254  254  254  254  254  254  254  254   \n",
              "7   0   0   0  220  254  254  254  235  189  189  189  189  150  189  205   \n",
              "8   0   0   0   35   74   35   35   25    0    0    0    0    0    0   13   \n",
              "9   0   0   0    0    0    0    0    0    0    0    0    0    0    0   90   \n",
              "\n",
              "    15   16   17   18  19  \n",
              "0    0    0    0    0   0  \n",
              "1    0    0    0    0   0  \n",
              "2    0    0    0    0   0  \n",
              "3    0    0    0    0   0  \n",
              "4    0    0    0    0   0  \n",
              "5   52    0    0    0   0  \n",
              "6  252  210  122   33   0  \n",
              "7  254  254  254   75   0  \n",
              "8  224  254  254  153   0  \n",
              "9  254  254  247   53   0  "
            ],
            "text/html": [
              "\n",
              "  <div id=\"df-b593ad70-9759-46d4-9cbb-9d33317e8110\">\n",
              "    <div class=\"colab-df-container\">\n",
              "      <div>\n",
              "<style scoped>\n",
              "    .dataframe tbody tr th:only-of-type {\n",
              "        vertical-align: middle;\n",
              "    }\n",
              "\n",
              "    .dataframe tbody tr th {\n",
              "        vertical-align: top;\n",
              "    }\n",
              "\n",
              "    .dataframe thead th {\n",
              "        text-align: right;\n",
              "    }\n",
              "</style>\n",
              "<table border=\"1\" class=\"dataframe\">\n",
              "  <thead>\n",
              "    <tr style=\"text-align: right;\">\n",
              "      <th></th>\n",
              "      <th>0</th>\n",
              "      <th>1</th>\n",
              "      <th>2</th>\n",
              "      <th>3</th>\n",
              "      <th>4</th>\n",
              "      <th>5</th>\n",
              "      <th>6</th>\n",
              "      <th>7</th>\n",
              "      <th>8</th>\n",
              "      <th>9</th>\n",
              "      <th>10</th>\n",
              "      <th>11</th>\n",
              "      <th>12</th>\n",
              "      <th>13</th>\n",
              "      <th>14</th>\n",
              "      <th>15</th>\n",
              "      <th>16</th>\n",
              "      <th>17</th>\n",
              "      <th>18</th>\n",
              "      <th>19</th>\n",
              "    </tr>\n",
              "  </thead>\n",
              "  <tbody>\n",
              "    <tr>\n",
              "      <th>0</th>\n",
              "      <td>0</td>\n",
              "      <td>0</td>\n",
              "      <td>0</td>\n",
              "      <td>0</td>\n",
              "      <td>0</td>\n",
              "      <td>0</td>\n",
              "      <td>0</td>\n",
              "      <td>0</td>\n",
              "      <td>0</td>\n",
              "      <td>0</td>\n",
              "      <td>0</td>\n",
              "      <td>0</td>\n",
              "      <td>0</td>\n",
              "      <td>0</td>\n",
              "      <td>0</td>\n",
              "      <td>0</td>\n",
              "      <td>0</td>\n",
              "      <td>0</td>\n",
              "      <td>0</td>\n",
              "      <td>0</td>\n",
              "    </tr>\n",
              "    <tr>\n",
              "      <th>1</th>\n",
              "      <td>0</td>\n",
              "      <td>0</td>\n",
              "      <td>0</td>\n",
              "      <td>0</td>\n",
              "      <td>0</td>\n",
              "      <td>0</td>\n",
              "      <td>0</td>\n",
              "      <td>0</td>\n",
              "      <td>0</td>\n",
              "      <td>0</td>\n",
              "      <td>0</td>\n",
              "      <td>0</td>\n",
              "      <td>0</td>\n",
              "      <td>0</td>\n",
              "      <td>0</td>\n",
              "      <td>0</td>\n",
              "      <td>0</td>\n",
              "      <td>0</td>\n",
              "      <td>0</td>\n",
              "      <td>0</td>\n",
              "    </tr>\n",
              "    <tr>\n",
              "      <th>2</th>\n",
              "      <td>0</td>\n",
              "      <td>0</td>\n",
              "      <td>0</td>\n",
              "      <td>0</td>\n",
              "      <td>0</td>\n",
              "      <td>0</td>\n",
              "      <td>0</td>\n",
              "      <td>0</td>\n",
              "      <td>0</td>\n",
              "      <td>0</td>\n",
              "      <td>0</td>\n",
              "      <td>0</td>\n",
              "      <td>0</td>\n",
              "      <td>0</td>\n",
              "      <td>0</td>\n",
              "      <td>0</td>\n",
              "      <td>0</td>\n",
              "      <td>0</td>\n",
              "      <td>0</td>\n",
              "      <td>0</td>\n",
              "    </tr>\n",
              "    <tr>\n",
              "      <th>3</th>\n",
              "      <td>0</td>\n",
              "      <td>0</td>\n",
              "      <td>0</td>\n",
              "      <td>0</td>\n",
              "      <td>0</td>\n",
              "      <td>0</td>\n",
              "      <td>0</td>\n",
              "      <td>0</td>\n",
              "      <td>0</td>\n",
              "      <td>0</td>\n",
              "      <td>0</td>\n",
              "      <td>0</td>\n",
              "      <td>0</td>\n",
              "      <td>0</td>\n",
              "      <td>0</td>\n",
              "      <td>0</td>\n",
              "      <td>0</td>\n",
              "      <td>0</td>\n",
              "      <td>0</td>\n",
              "      <td>0</td>\n",
              "    </tr>\n",
              "    <tr>\n",
              "      <th>4</th>\n",
              "      <td>0</td>\n",
              "      <td>0</td>\n",
              "      <td>0</td>\n",
              "      <td>0</td>\n",
              "      <td>0</td>\n",
              "      <td>0</td>\n",
              "      <td>0</td>\n",
              "      <td>0</td>\n",
              "      <td>0</td>\n",
              "      <td>0</td>\n",
              "      <td>0</td>\n",
              "      <td>0</td>\n",
              "      <td>0</td>\n",
              "      <td>0</td>\n",
              "      <td>0</td>\n",
              "      <td>0</td>\n",
              "      <td>0</td>\n",
              "      <td>0</td>\n",
              "      <td>0</td>\n",
              "      <td>0</td>\n",
              "    </tr>\n",
              "    <tr>\n",
              "      <th>5</th>\n",
              "      <td>0</td>\n",
              "      <td>0</td>\n",
              "      <td>0</td>\n",
              "      <td>12</td>\n",
              "      <td>99</td>\n",
              "      <td>91</td>\n",
              "      <td>142</td>\n",
              "      <td>155</td>\n",
              "      <td>246</td>\n",
              "      <td>182</td>\n",
              "      <td>155</td>\n",
              "      <td>155</td>\n",
              "      <td>155</td>\n",
              "      <td>155</td>\n",
              "      <td>131</td>\n",
              "      <td>52</td>\n",
              "      <td>0</td>\n",
              "      <td>0</td>\n",
              "      <td>0</td>\n",
              "      <td>0</td>\n",
              "    </tr>\n",
              "    <tr>\n",
              "      <th>6</th>\n",
              "      <td>0</td>\n",
              "      <td>0</td>\n",
              "      <td>0</td>\n",
              "      <td>138</td>\n",
              "      <td>254</td>\n",
              "      <td>254</td>\n",
              "      <td>254</td>\n",
              "      <td>254</td>\n",
              "      <td>254</td>\n",
              "      <td>254</td>\n",
              "      <td>254</td>\n",
              "      <td>254</td>\n",
              "      <td>254</td>\n",
              "      <td>254</td>\n",
              "      <td>254</td>\n",
              "      <td>252</td>\n",
              "      <td>210</td>\n",
              "      <td>122</td>\n",
              "      <td>33</td>\n",
              "      <td>0</td>\n",
              "    </tr>\n",
              "    <tr>\n",
              "      <th>7</th>\n",
              "      <td>0</td>\n",
              "      <td>0</td>\n",
              "      <td>0</td>\n",
              "      <td>220</td>\n",
              "      <td>254</td>\n",
              "      <td>254</td>\n",
              "      <td>254</td>\n",
              "      <td>235</td>\n",
              "      <td>189</td>\n",
              "      <td>189</td>\n",
              "      <td>189</td>\n",
              "      <td>189</td>\n",
              "      <td>150</td>\n",
              "      <td>189</td>\n",
              "      <td>205</td>\n",
              "      <td>254</td>\n",
              "      <td>254</td>\n",
              "      <td>254</td>\n",
              "      <td>75</td>\n",
              "      <td>0</td>\n",
              "    </tr>\n",
              "    <tr>\n",
              "      <th>8</th>\n",
              "      <td>0</td>\n",
              "      <td>0</td>\n",
              "      <td>0</td>\n",
              "      <td>35</td>\n",
              "      <td>74</td>\n",
              "      <td>35</td>\n",
              "      <td>35</td>\n",
              "      <td>25</td>\n",
              "      <td>0</td>\n",
              "      <td>0</td>\n",
              "      <td>0</td>\n",
              "      <td>0</td>\n",
              "      <td>0</td>\n",
              "      <td>0</td>\n",
              "      <td>13</td>\n",
              "      <td>224</td>\n",
              "      <td>254</td>\n",
              "      <td>254</td>\n",
              "      <td>153</td>\n",
              "      <td>0</td>\n",
              "    </tr>\n",
              "    <tr>\n",
              "      <th>9</th>\n",
              "      <td>0</td>\n",
              "      <td>0</td>\n",
              "      <td>0</td>\n",
              "      <td>0</td>\n",
              "      <td>0</td>\n",
              "      <td>0</td>\n",
              "      <td>0</td>\n",
              "      <td>0</td>\n",
              "      <td>0</td>\n",
              "      <td>0</td>\n",
              "      <td>0</td>\n",
              "      <td>0</td>\n",
              "      <td>0</td>\n",
              "      <td>0</td>\n",
              "      <td>90</td>\n",
              "      <td>254</td>\n",
              "      <td>254</td>\n",
              "      <td>247</td>\n",
              "      <td>53</td>\n",
              "      <td>0</td>\n",
              "    </tr>\n",
              "  </tbody>\n",
              "</table>\n",
              "</div>\n",
              "      <button class=\"colab-df-convert\" onclick=\"convertToInteractive('df-b593ad70-9759-46d4-9cbb-9d33317e8110')\"\n",
              "              title=\"Convert this dataframe to an interactive table.\"\n",
              "              style=\"display:none;\">\n",
              "        \n",
              "  <svg xmlns=\"http://www.w3.org/2000/svg\" height=\"24px\"viewBox=\"0 0 24 24\"\n",
              "       width=\"24px\">\n",
              "    <path d=\"M0 0h24v24H0V0z\" fill=\"none\"/>\n",
              "    <path d=\"M18.56 5.44l.94 2.06.94-2.06 2.06-.94-2.06-.94-.94-2.06-.94 2.06-2.06.94zm-11 1L8.5 8.5l.94-2.06 2.06-.94-2.06-.94L8.5 2.5l-.94 2.06-2.06.94zm10 10l.94 2.06.94-2.06 2.06-.94-2.06-.94-.94-2.06-.94 2.06-2.06.94z\"/><path d=\"M17.41 7.96l-1.37-1.37c-.4-.4-.92-.59-1.43-.59-.52 0-1.04.2-1.43.59L10.3 9.45l-7.72 7.72c-.78.78-.78 2.05 0 2.83L4 21.41c.39.39.9.59 1.41.59.51 0 1.02-.2 1.41-.59l7.78-7.78 2.81-2.81c.8-.78.8-2.07 0-2.86zM5.41 20L4 18.59l7.72-7.72 1.47 1.35L5.41 20z\"/>\n",
              "  </svg>\n",
              "      </button>\n",
              "      \n",
              "  <style>\n",
              "    .colab-df-container {\n",
              "      display:flex;\n",
              "      flex-wrap:wrap;\n",
              "      gap: 12px;\n",
              "    }\n",
              "\n",
              "    .colab-df-convert {\n",
              "      background-color: #E8F0FE;\n",
              "      border: none;\n",
              "      border-radius: 50%;\n",
              "      cursor: pointer;\n",
              "      display: none;\n",
              "      fill: #1967D2;\n",
              "      height: 32px;\n",
              "      padding: 0 0 0 0;\n",
              "      width: 32px;\n",
              "    }\n",
              "\n",
              "    .colab-df-convert:hover {\n",
              "      background-color: #E2EBFA;\n",
              "      box-shadow: 0px 1px 2px rgba(60, 64, 67, 0.3), 0px 1px 3px 1px rgba(60, 64, 67, 0.15);\n",
              "      fill: #174EA6;\n",
              "    }\n",
              "\n",
              "    [theme=dark] .colab-df-convert {\n",
              "      background-color: #3B4455;\n",
              "      fill: #D2E3FC;\n",
              "    }\n",
              "\n",
              "    [theme=dark] .colab-df-convert:hover {\n",
              "      background-color: #434B5C;\n",
              "      box-shadow: 0px 1px 3px 1px rgba(0, 0, 0, 0.15);\n",
              "      filter: drop-shadow(0px 1px 2px rgba(0, 0, 0, 0.3));\n",
              "      fill: #FFFFFF;\n",
              "    }\n",
              "  </style>\n",
              "\n",
              "      <script>\n",
              "        const buttonEl =\n",
              "          document.querySelector('#df-b593ad70-9759-46d4-9cbb-9d33317e8110 button.colab-df-convert');\n",
              "        buttonEl.style.display =\n",
              "          google.colab.kernel.accessAllowed ? 'block' : 'none';\n",
              "\n",
              "        async function convertToInteractive(key) {\n",
              "          const element = document.querySelector('#df-b593ad70-9759-46d4-9cbb-9d33317e8110');\n",
              "          const dataTable =\n",
              "            await google.colab.kernel.invokeFunction('convertToInteractive',\n",
              "                                                     [key], {});\n",
              "          if (!dataTable) return;\n",
              "\n",
              "          const docLinkHtml = 'Like what you see? Visit the ' +\n",
              "            '<a target=\"_blank\" href=https://colab.research.google.com/notebooks/data_table.ipynb>data table notebook</a>'\n",
              "            + ' to learn more about interactive tables.';\n",
              "          element.innerHTML = '';\n",
              "          dataTable['output_type'] = 'display_data';\n",
              "          await google.colab.output.renderOutput(dataTable, element);\n",
              "          const docLink = document.createElement('div');\n",
              "          docLink.innerHTML = docLinkHtml;\n",
              "          element.appendChild(docLink);\n",
              "        }\n",
              "      </script>\n",
              "    </div>\n",
              "  </div>\n",
              "  "
            ]
          },
          "metadata": {},
          "execution_count": 10
        }
      ]
    },
    {
      "cell_type": "code",
      "source": [
        "df.style.set_properties(**{'font-size':'6pt'}).background_gradient('Greys')"
      ],
      "metadata": {
        "colab": {
          "base_uri": "https://localhost:8080/",
          "height": 352
        },
        "id": "7mIyhAjwsc11",
        "outputId": "3c10f20c-77be-4cc7-c5e0-108a1859e339"
      },
      "execution_count": 11,
      "outputs": [
        {
          "output_type": "execute_result",
          "data": {
            "text/plain": [
              "<pandas.io.formats.style.Styler at 0x7fd383741410>"
            ],
            "text/html": [
              "<style type=\"text/css\">\n",
              "#T_95273_row0_col0, #T_95273_row0_col1, #T_95273_row0_col2, #T_95273_row0_col3, #T_95273_row0_col4, #T_95273_row0_col5, #T_95273_row0_col6, #T_95273_row0_col7, #T_95273_row0_col8, #T_95273_row0_col9, #T_95273_row0_col10, #T_95273_row0_col11, #T_95273_row0_col12, #T_95273_row0_col13, #T_95273_row0_col14, #T_95273_row0_col15, #T_95273_row0_col16, #T_95273_row0_col17, #T_95273_row0_col18, #T_95273_row0_col19, #T_95273_row1_col0, #T_95273_row1_col1, #T_95273_row1_col2, #T_95273_row1_col3, #T_95273_row1_col4, #T_95273_row1_col5, #T_95273_row1_col6, #T_95273_row1_col7, #T_95273_row1_col8, #T_95273_row1_col9, #T_95273_row1_col10, #T_95273_row1_col11, #T_95273_row1_col12, #T_95273_row1_col13, #T_95273_row1_col14, #T_95273_row1_col15, #T_95273_row1_col16, #T_95273_row1_col17, #T_95273_row1_col18, #T_95273_row1_col19, #T_95273_row2_col0, #T_95273_row2_col1, #T_95273_row2_col2, #T_95273_row2_col3, #T_95273_row2_col4, #T_95273_row2_col5, #T_95273_row2_col6, #T_95273_row2_col7, #T_95273_row2_col8, #T_95273_row2_col9, #T_95273_row2_col10, #T_95273_row2_col11, #T_95273_row2_col12, #T_95273_row2_col13, #T_95273_row2_col14, #T_95273_row2_col15, #T_95273_row2_col16, #T_95273_row2_col17, #T_95273_row2_col18, #T_95273_row2_col19, #T_95273_row3_col0, #T_95273_row3_col1, #T_95273_row3_col2, #T_95273_row3_col3, #T_95273_row3_col4, #T_95273_row3_col5, #T_95273_row3_col6, #T_95273_row3_col7, #T_95273_row3_col8, #T_95273_row3_col9, #T_95273_row3_col10, #T_95273_row3_col11, #T_95273_row3_col12, #T_95273_row3_col13, #T_95273_row3_col14, #T_95273_row3_col15, #T_95273_row3_col16, #T_95273_row3_col17, #T_95273_row3_col18, #T_95273_row3_col19, #T_95273_row4_col0, #T_95273_row4_col1, #T_95273_row4_col2, #T_95273_row4_col3, #T_95273_row4_col4, #T_95273_row4_col5, #T_95273_row4_col6, #T_95273_row4_col7, #T_95273_row4_col8, #T_95273_row4_col9, #T_95273_row4_col10, #T_95273_row4_col11, #T_95273_row4_col12, #T_95273_row4_col13, #T_95273_row4_col14, #T_95273_row4_col15, #T_95273_row4_col16, #T_95273_row4_col17, #T_95273_row4_col18, #T_95273_row4_col19, #T_95273_row5_col0, #T_95273_row5_col1, #T_95273_row5_col2, #T_95273_row5_col16, #T_95273_row5_col17, #T_95273_row5_col18, #T_95273_row5_col19, #T_95273_row6_col0, #T_95273_row6_col1, #T_95273_row6_col2, #T_95273_row6_col19, #T_95273_row7_col0, #T_95273_row7_col1, #T_95273_row7_col2, #T_95273_row7_col19, #T_95273_row8_col0, #T_95273_row8_col1, #T_95273_row8_col2, #T_95273_row8_col8, #T_95273_row8_col9, #T_95273_row8_col10, #T_95273_row8_col11, #T_95273_row8_col12, #T_95273_row8_col13, #T_95273_row8_col19, #T_95273_row9_col0, #T_95273_row9_col1, #T_95273_row9_col2, #T_95273_row9_col3, #T_95273_row9_col4, #T_95273_row9_col5, #T_95273_row9_col6, #T_95273_row9_col7, #T_95273_row9_col8, #T_95273_row9_col9, #T_95273_row9_col10, #T_95273_row9_col11, #T_95273_row9_col12, #T_95273_row9_col13, #T_95273_row9_col19 {\n",
              "  font-size: 6pt;\n",
              "  background-color: #ffffff;\n",
              "  color: #000000;\n",
              "}\n",
              "#T_95273_row5_col3, #T_95273_row8_col14 {\n",
              "  font-size: 6pt;\n",
              "  background-color: #f9f9f9;\n",
              "  color: #000000;\n",
              "}\n",
              "#T_95273_row5_col4 {\n",
              "  font-size: 6pt;\n",
              "  background-color: #b9b9b9;\n",
              "  color: #000000;\n",
              "}\n",
              "#T_95273_row5_col5 {\n",
              "  font-size: 6pt;\n",
              "  background-color: #c1c1c1;\n",
              "  color: #000000;\n",
              "}\n",
              "#T_95273_row5_col6 {\n",
              "  font-size: 6pt;\n",
              "  background-color: #858585;\n",
              "  color: #f1f1f1;\n",
              "}\n",
              "#T_95273_row5_col7, #T_95273_row5_col10, #T_95273_row5_col11, #T_95273_row5_col12, #T_95273_row5_col13 {\n",
              "  font-size: 6pt;\n",
              "  background-color: #777777;\n",
              "  color: #f1f1f1;\n",
              "}\n",
              "#T_95273_row5_col8 {\n",
              "  font-size: 6pt;\n",
              "  background-color: #090909;\n",
              "  color: #f1f1f1;\n",
              "}\n",
              "#T_95273_row5_col9 {\n",
              "  font-size: 6pt;\n",
              "  background-color: #5b5b5b;\n",
              "  color: #f1f1f1;\n",
              "}\n",
              "#T_95273_row5_col14 {\n",
              "  font-size: 6pt;\n",
              "  background-color: #919191;\n",
              "  color: #f1f1f1;\n",
              "}\n",
              "#T_95273_row5_col15 {\n",
              "  font-size: 6pt;\n",
              "  background-color: #e1e1e1;\n",
              "  color: #000000;\n",
              "}\n",
              "#T_95273_row6_col3 {\n",
              "  font-size: 6pt;\n",
              "  background-color: #727272;\n",
              "  color: #f1f1f1;\n",
              "}\n",
              "#T_95273_row6_col4, #T_95273_row6_col5, #T_95273_row6_col6, #T_95273_row6_col7, #T_95273_row6_col8, #T_95273_row6_col9, #T_95273_row6_col10, #T_95273_row6_col11, #T_95273_row6_col12, #T_95273_row6_col13, #T_95273_row6_col14, #T_95273_row7_col3, #T_95273_row7_col4, #T_95273_row7_col5, #T_95273_row7_col6, #T_95273_row7_col15, #T_95273_row7_col16, #T_95273_row7_col17, #T_95273_row8_col16, #T_95273_row8_col17, #T_95273_row8_col18, #T_95273_row9_col15, #T_95273_row9_col16 {\n",
              "  font-size: 6pt;\n",
              "  background-color: #000000;\n",
              "  color: #f1f1f1;\n",
              "}\n",
              "#T_95273_row6_col15 {\n",
              "  font-size: 6pt;\n",
              "  background-color: #020202;\n",
              "  color: #f1f1f1;\n",
              "}\n",
              "#T_95273_row6_col16 {\n",
              "  font-size: 6pt;\n",
              "  background-color: #363636;\n",
              "  color: #f1f1f1;\n",
              "}\n",
              "#T_95273_row6_col17 {\n",
              "  font-size: 6pt;\n",
              "  background-color: #9d9d9d;\n",
              "  color: #f1f1f1;\n",
              "}\n",
              "#T_95273_row6_col18 {\n",
              "  font-size: 6pt;\n",
              "  background-color: #dfdfdf;\n",
              "  color: #000000;\n",
              "}\n",
              "#T_95273_row7_col7 {\n",
              "  font-size: 6pt;\n",
              "  background-color: #161616;\n",
              "  color: #f1f1f1;\n",
              "}\n",
              "#T_95273_row7_col8, #T_95273_row7_col9, #T_95273_row7_col10, #T_95273_row7_col11, #T_95273_row7_col13 {\n",
              "  font-size: 6pt;\n",
              "  background-color: #535353;\n",
              "  color: #f1f1f1;\n",
              "}\n",
              "#T_95273_row7_col12 {\n",
              "  font-size: 6pt;\n",
              "  background-color: #7c7c7c;\n",
              "  color: #f1f1f1;\n",
              "}\n",
              "#T_95273_row7_col14 {\n",
              "  font-size: 6pt;\n",
              "  background-color: #3d3d3d;\n",
              "  color: #f1f1f1;\n",
              "}\n",
              "#T_95273_row7_col18 {\n",
              "  font-size: 6pt;\n",
              "  background-color: #999999;\n",
              "  color: #f1f1f1;\n",
              "}\n",
              "#T_95273_row8_col3 {\n",
              "  font-size: 6pt;\n",
              "  background-color: #eaeaea;\n",
              "  color: #000000;\n",
              "}\n",
              "#T_95273_row8_col4 {\n",
              "  font-size: 6pt;\n",
              "  background-color: #d0d0d0;\n",
              "  color: #000000;\n",
              "}\n",
              "#T_95273_row8_col5, #T_95273_row8_col6 {\n",
              "  font-size: 6pt;\n",
              "  background-color: #eeeeee;\n",
              "  color: #000000;\n",
              "}\n",
              "#T_95273_row8_col7 {\n",
              "  font-size: 6pt;\n",
              "  background-color: #f3f3f3;\n",
              "  color: #000000;\n",
              "}\n",
              "#T_95273_row8_col15 {\n",
              "  font-size: 6pt;\n",
              "  background-color: #232323;\n",
              "  color: #f1f1f1;\n",
              "}\n",
              "#T_95273_row9_col14 {\n",
              "  font-size: 6pt;\n",
              "  background-color: #c2c2c2;\n",
              "  color: #000000;\n",
              "}\n",
              "#T_95273_row9_col17 {\n",
              "  font-size: 6pt;\n",
              "  background-color: #080808;\n",
              "  color: #f1f1f1;\n",
              "}\n",
              "#T_95273_row9_col18 {\n",
              "  font-size: 6pt;\n",
              "  background-color: #c4c4c4;\n",
              "  color: #000000;\n",
              "}\n",
              "</style>\n",
              "<table id=\"T_95273_\" class=\"dataframe\">\n",
              "  <thead>\n",
              "    <tr>\n",
              "      <th class=\"blank level0\" >&nbsp;</th>\n",
              "      <th class=\"col_heading level0 col0\" >0</th>\n",
              "      <th class=\"col_heading level0 col1\" >1</th>\n",
              "      <th class=\"col_heading level0 col2\" >2</th>\n",
              "      <th class=\"col_heading level0 col3\" >3</th>\n",
              "      <th class=\"col_heading level0 col4\" >4</th>\n",
              "      <th class=\"col_heading level0 col5\" >5</th>\n",
              "      <th class=\"col_heading level0 col6\" >6</th>\n",
              "      <th class=\"col_heading level0 col7\" >7</th>\n",
              "      <th class=\"col_heading level0 col8\" >8</th>\n",
              "      <th class=\"col_heading level0 col9\" >9</th>\n",
              "      <th class=\"col_heading level0 col10\" >10</th>\n",
              "      <th class=\"col_heading level0 col11\" >11</th>\n",
              "      <th class=\"col_heading level0 col12\" >12</th>\n",
              "      <th class=\"col_heading level0 col13\" >13</th>\n",
              "      <th class=\"col_heading level0 col14\" >14</th>\n",
              "      <th class=\"col_heading level0 col15\" >15</th>\n",
              "      <th class=\"col_heading level0 col16\" >16</th>\n",
              "      <th class=\"col_heading level0 col17\" >17</th>\n",
              "      <th class=\"col_heading level0 col18\" >18</th>\n",
              "      <th class=\"col_heading level0 col19\" >19</th>\n",
              "    </tr>\n",
              "  </thead>\n",
              "  <tbody>\n",
              "    <tr>\n",
              "      <th id=\"T_95273_level0_row0\" class=\"row_heading level0 row0\" >0</th>\n",
              "      <td id=\"T_95273_row0_col0\" class=\"data row0 col0\" >0</td>\n",
              "      <td id=\"T_95273_row0_col1\" class=\"data row0 col1\" >0</td>\n",
              "      <td id=\"T_95273_row0_col2\" class=\"data row0 col2\" >0</td>\n",
              "      <td id=\"T_95273_row0_col3\" class=\"data row0 col3\" >0</td>\n",
              "      <td id=\"T_95273_row0_col4\" class=\"data row0 col4\" >0</td>\n",
              "      <td id=\"T_95273_row0_col5\" class=\"data row0 col5\" >0</td>\n",
              "      <td id=\"T_95273_row0_col6\" class=\"data row0 col6\" >0</td>\n",
              "      <td id=\"T_95273_row0_col7\" class=\"data row0 col7\" >0</td>\n",
              "      <td id=\"T_95273_row0_col8\" class=\"data row0 col8\" >0</td>\n",
              "      <td id=\"T_95273_row0_col9\" class=\"data row0 col9\" >0</td>\n",
              "      <td id=\"T_95273_row0_col10\" class=\"data row0 col10\" >0</td>\n",
              "      <td id=\"T_95273_row0_col11\" class=\"data row0 col11\" >0</td>\n",
              "      <td id=\"T_95273_row0_col12\" class=\"data row0 col12\" >0</td>\n",
              "      <td id=\"T_95273_row0_col13\" class=\"data row0 col13\" >0</td>\n",
              "      <td id=\"T_95273_row0_col14\" class=\"data row0 col14\" >0</td>\n",
              "      <td id=\"T_95273_row0_col15\" class=\"data row0 col15\" >0</td>\n",
              "      <td id=\"T_95273_row0_col16\" class=\"data row0 col16\" >0</td>\n",
              "      <td id=\"T_95273_row0_col17\" class=\"data row0 col17\" >0</td>\n",
              "      <td id=\"T_95273_row0_col18\" class=\"data row0 col18\" >0</td>\n",
              "      <td id=\"T_95273_row0_col19\" class=\"data row0 col19\" >0</td>\n",
              "    </tr>\n",
              "    <tr>\n",
              "      <th id=\"T_95273_level0_row1\" class=\"row_heading level0 row1\" >1</th>\n",
              "      <td id=\"T_95273_row1_col0\" class=\"data row1 col0\" >0</td>\n",
              "      <td id=\"T_95273_row1_col1\" class=\"data row1 col1\" >0</td>\n",
              "      <td id=\"T_95273_row1_col2\" class=\"data row1 col2\" >0</td>\n",
              "      <td id=\"T_95273_row1_col3\" class=\"data row1 col3\" >0</td>\n",
              "      <td id=\"T_95273_row1_col4\" class=\"data row1 col4\" >0</td>\n",
              "      <td id=\"T_95273_row1_col5\" class=\"data row1 col5\" >0</td>\n",
              "      <td id=\"T_95273_row1_col6\" class=\"data row1 col6\" >0</td>\n",
              "      <td id=\"T_95273_row1_col7\" class=\"data row1 col7\" >0</td>\n",
              "      <td id=\"T_95273_row1_col8\" class=\"data row1 col8\" >0</td>\n",
              "      <td id=\"T_95273_row1_col9\" class=\"data row1 col9\" >0</td>\n",
              "      <td id=\"T_95273_row1_col10\" class=\"data row1 col10\" >0</td>\n",
              "      <td id=\"T_95273_row1_col11\" class=\"data row1 col11\" >0</td>\n",
              "      <td id=\"T_95273_row1_col12\" class=\"data row1 col12\" >0</td>\n",
              "      <td id=\"T_95273_row1_col13\" class=\"data row1 col13\" >0</td>\n",
              "      <td id=\"T_95273_row1_col14\" class=\"data row1 col14\" >0</td>\n",
              "      <td id=\"T_95273_row1_col15\" class=\"data row1 col15\" >0</td>\n",
              "      <td id=\"T_95273_row1_col16\" class=\"data row1 col16\" >0</td>\n",
              "      <td id=\"T_95273_row1_col17\" class=\"data row1 col17\" >0</td>\n",
              "      <td id=\"T_95273_row1_col18\" class=\"data row1 col18\" >0</td>\n",
              "      <td id=\"T_95273_row1_col19\" class=\"data row1 col19\" >0</td>\n",
              "    </tr>\n",
              "    <tr>\n",
              "      <th id=\"T_95273_level0_row2\" class=\"row_heading level0 row2\" >2</th>\n",
              "      <td id=\"T_95273_row2_col0\" class=\"data row2 col0\" >0</td>\n",
              "      <td id=\"T_95273_row2_col1\" class=\"data row2 col1\" >0</td>\n",
              "      <td id=\"T_95273_row2_col2\" class=\"data row2 col2\" >0</td>\n",
              "      <td id=\"T_95273_row2_col3\" class=\"data row2 col3\" >0</td>\n",
              "      <td id=\"T_95273_row2_col4\" class=\"data row2 col4\" >0</td>\n",
              "      <td id=\"T_95273_row2_col5\" class=\"data row2 col5\" >0</td>\n",
              "      <td id=\"T_95273_row2_col6\" class=\"data row2 col6\" >0</td>\n",
              "      <td id=\"T_95273_row2_col7\" class=\"data row2 col7\" >0</td>\n",
              "      <td id=\"T_95273_row2_col8\" class=\"data row2 col8\" >0</td>\n",
              "      <td id=\"T_95273_row2_col9\" class=\"data row2 col9\" >0</td>\n",
              "      <td id=\"T_95273_row2_col10\" class=\"data row2 col10\" >0</td>\n",
              "      <td id=\"T_95273_row2_col11\" class=\"data row2 col11\" >0</td>\n",
              "      <td id=\"T_95273_row2_col12\" class=\"data row2 col12\" >0</td>\n",
              "      <td id=\"T_95273_row2_col13\" class=\"data row2 col13\" >0</td>\n",
              "      <td id=\"T_95273_row2_col14\" class=\"data row2 col14\" >0</td>\n",
              "      <td id=\"T_95273_row2_col15\" class=\"data row2 col15\" >0</td>\n",
              "      <td id=\"T_95273_row2_col16\" class=\"data row2 col16\" >0</td>\n",
              "      <td id=\"T_95273_row2_col17\" class=\"data row2 col17\" >0</td>\n",
              "      <td id=\"T_95273_row2_col18\" class=\"data row2 col18\" >0</td>\n",
              "      <td id=\"T_95273_row2_col19\" class=\"data row2 col19\" >0</td>\n",
              "    </tr>\n",
              "    <tr>\n",
              "      <th id=\"T_95273_level0_row3\" class=\"row_heading level0 row3\" >3</th>\n",
              "      <td id=\"T_95273_row3_col0\" class=\"data row3 col0\" >0</td>\n",
              "      <td id=\"T_95273_row3_col1\" class=\"data row3 col1\" >0</td>\n",
              "      <td id=\"T_95273_row3_col2\" class=\"data row3 col2\" >0</td>\n",
              "      <td id=\"T_95273_row3_col3\" class=\"data row3 col3\" >0</td>\n",
              "      <td id=\"T_95273_row3_col4\" class=\"data row3 col4\" >0</td>\n",
              "      <td id=\"T_95273_row3_col5\" class=\"data row3 col5\" >0</td>\n",
              "      <td id=\"T_95273_row3_col6\" class=\"data row3 col6\" >0</td>\n",
              "      <td id=\"T_95273_row3_col7\" class=\"data row3 col7\" >0</td>\n",
              "      <td id=\"T_95273_row3_col8\" class=\"data row3 col8\" >0</td>\n",
              "      <td id=\"T_95273_row3_col9\" class=\"data row3 col9\" >0</td>\n",
              "      <td id=\"T_95273_row3_col10\" class=\"data row3 col10\" >0</td>\n",
              "      <td id=\"T_95273_row3_col11\" class=\"data row3 col11\" >0</td>\n",
              "      <td id=\"T_95273_row3_col12\" class=\"data row3 col12\" >0</td>\n",
              "      <td id=\"T_95273_row3_col13\" class=\"data row3 col13\" >0</td>\n",
              "      <td id=\"T_95273_row3_col14\" class=\"data row3 col14\" >0</td>\n",
              "      <td id=\"T_95273_row3_col15\" class=\"data row3 col15\" >0</td>\n",
              "      <td id=\"T_95273_row3_col16\" class=\"data row3 col16\" >0</td>\n",
              "      <td id=\"T_95273_row3_col17\" class=\"data row3 col17\" >0</td>\n",
              "      <td id=\"T_95273_row3_col18\" class=\"data row3 col18\" >0</td>\n",
              "      <td id=\"T_95273_row3_col19\" class=\"data row3 col19\" >0</td>\n",
              "    </tr>\n",
              "    <tr>\n",
              "      <th id=\"T_95273_level0_row4\" class=\"row_heading level0 row4\" >4</th>\n",
              "      <td id=\"T_95273_row4_col0\" class=\"data row4 col0\" >0</td>\n",
              "      <td id=\"T_95273_row4_col1\" class=\"data row4 col1\" >0</td>\n",
              "      <td id=\"T_95273_row4_col2\" class=\"data row4 col2\" >0</td>\n",
              "      <td id=\"T_95273_row4_col3\" class=\"data row4 col3\" >0</td>\n",
              "      <td id=\"T_95273_row4_col4\" class=\"data row4 col4\" >0</td>\n",
              "      <td id=\"T_95273_row4_col5\" class=\"data row4 col5\" >0</td>\n",
              "      <td id=\"T_95273_row4_col6\" class=\"data row4 col6\" >0</td>\n",
              "      <td id=\"T_95273_row4_col7\" class=\"data row4 col7\" >0</td>\n",
              "      <td id=\"T_95273_row4_col8\" class=\"data row4 col8\" >0</td>\n",
              "      <td id=\"T_95273_row4_col9\" class=\"data row4 col9\" >0</td>\n",
              "      <td id=\"T_95273_row4_col10\" class=\"data row4 col10\" >0</td>\n",
              "      <td id=\"T_95273_row4_col11\" class=\"data row4 col11\" >0</td>\n",
              "      <td id=\"T_95273_row4_col12\" class=\"data row4 col12\" >0</td>\n",
              "      <td id=\"T_95273_row4_col13\" class=\"data row4 col13\" >0</td>\n",
              "      <td id=\"T_95273_row4_col14\" class=\"data row4 col14\" >0</td>\n",
              "      <td id=\"T_95273_row4_col15\" class=\"data row4 col15\" >0</td>\n",
              "      <td id=\"T_95273_row4_col16\" class=\"data row4 col16\" >0</td>\n",
              "      <td id=\"T_95273_row4_col17\" class=\"data row4 col17\" >0</td>\n",
              "      <td id=\"T_95273_row4_col18\" class=\"data row4 col18\" >0</td>\n",
              "      <td id=\"T_95273_row4_col19\" class=\"data row4 col19\" >0</td>\n",
              "    </tr>\n",
              "    <tr>\n",
              "      <th id=\"T_95273_level0_row5\" class=\"row_heading level0 row5\" >5</th>\n",
              "      <td id=\"T_95273_row5_col0\" class=\"data row5 col0\" >0</td>\n",
              "      <td id=\"T_95273_row5_col1\" class=\"data row5 col1\" >0</td>\n",
              "      <td id=\"T_95273_row5_col2\" class=\"data row5 col2\" >0</td>\n",
              "      <td id=\"T_95273_row5_col3\" class=\"data row5 col3\" >12</td>\n",
              "      <td id=\"T_95273_row5_col4\" class=\"data row5 col4\" >99</td>\n",
              "      <td id=\"T_95273_row5_col5\" class=\"data row5 col5\" >91</td>\n",
              "      <td id=\"T_95273_row5_col6\" class=\"data row5 col6\" >142</td>\n",
              "      <td id=\"T_95273_row5_col7\" class=\"data row5 col7\" >155</td>\n",
              "      <td id=\"T_95273_row5_col8\" class=\"data row5 col8\" >246</td>\n",
              "      <td id=\"T_95273_row5_col9\" class=\"data row5 col9\" >182</td>\n",
              "      <td id=\"T_95273_row5_col10\" class=\"data row5 col10\" >155</td>\n",
              "      <td id=\"T_95273_row5_col11\" class=\"data row5 col11\" >155</td>\n",
              "      <td id=\"T_95273_row5_col12\" class=\"data row5 col12\" >155</td>\n",
              "      <td id=\"T_95273_row5_col13\" class=\"data row5 col13\" >155</td>\n",
              "      <td id=\"T_95273_row5_col14\" class=\"data row5 col14\" >131</td>\n",
              "      <td id=\"T_95273_row5_col15\" class=\"data row5 col15\" >52</td>\n",
              "      <td id=\"T_95273_row5_col16\" class=\"data row5 col16\" >0</td>\n",
              "      <td id=\"T_95273_row5_col17\" class=\"data row5 col17\" >0</td>\n",
              "      <td id=\"T_95273_row5_col18\" class=\"data row5 col18\" >0</td>\n",
              "      <td id=\"T_95273_row5_col19\" class=\"data row5 col19\" >0</td>\n",
              "    </tr>\n",
              "    <tr>\n",
              "      <th id=\"T_95273_level0_row6\" class=\"row_heading level0 row6\" >6</th>\n",
              "      <td id=\"T_95273_row6_col0\" class=\"data row6 col0\" >0</td>\n",
              "      <td id=\"T_95273_row6_col1\" class=\"data row6 col1\" >0</td>\n",
              "      <td id=\"T_95273_row6_col2\" class=\"data row6 col2\" >0</td>\n",
              "      <td id=\"T_95273_row6_col3\" class=\"data row6 col3\" >138</td>\n",
              "      <td id=\"T_95273_row6_col4\" class=\"data row6 col4\" >254</td>\n",
              "      <td id=\"T_95273_row6_col5\" class=\"data row6 col5\" >254</td>\n",
              "      <td id=\"T_95273_row6_col6\" class=\"data row6 col6\" >254</td>\n",
              "      <td id=\"T_95273_row6_col7\" class=\"data row6 col7\" >254</td>\n",
              "      <td id=\"T_95273_row6_col8\" class=\"data row6 col8\" >254</td>\n",
              "      <td id=\"T_95273_row6_col9\" class=\"data row6 col9\" >254</td>\n",
              "      <td id=\"T_95273_row6_col10\" class=\"data row6 col10\" >254</td>\n",
              "      <td id=\"T_95273_row6_col11\" class=\"data row6 col11\" >254</td>\n",
              "      <td id=\"T_95273_row6_col12\" class=\"data row6 col12\" >254</td>\n",
              "      <td id=\"T_95273_row6_col13\" class=\"data row6 col13\" >254</td>\n",
              "      <td id=\"T_95273_row6_col14\" class=\"data row6 col14\" >254</td>\n",
              "      <td id=\"T_95273_row6_col15\" class=\"data row6 col15\" >252</td>\n",
              "      <td id=\"T_95273_row6_col16\" class=\"data row6 col16\" >210</td>\n",
              "      <td id=\"T_95273_row6_col17\" class=\"data row6 col17\" >122</td>\n",
              "      <td id=\"T_95273_row6_col18\" class=\"data row6 col18\" >33</td>\n",
              "      <td id=\"T_95273_row6_col19\" class=\"data row6 col19\" >0</td>\n",
              "    </tr>\n",
              "    <tr>\n",
              "      <th id=\"T_95273_level0_row7\" class=\"row_heading level0 row7\" >7</th>\n",
              "      <td id=\"T_95273_row7_col0\" class=\"data row7 col0\" >0</td>\n",
              "      <td id=\"T_95273_row7_col1\" class=\"data row7 col1\" >0</td>\n",
              "      <td id=\"T_95273_row7_col2\" class=\"data row7 col2\" >0</td>\n",
              "      <td id=\"T_95273_row7_col3\" class=\"data row7 col3\" >220</td>\n",
              "      <td id=\"T_95273_row7_col4\" class=\"data row7 col4\" >254</td>\n",
              "      <td id=\"T_95273_row7_col5\" class=\"data row7 col5\" >254</td>\n",
              "      <td id=\"T_95273_row7_col6\" class=\"data row7 col6\" >254</td>\n",
              "      <td id=\"T_95273_row7_col7\" class=\"data row7 col7\" >235</td>\n",
              "      <td id=\"T_95273_row7_col8\" class=\"data row7 col8\" >189</td>\n",
              "      <td id=\"T_95273_row7_col9\" class=\"data row7 col9\" >189</td>\n",
              "      <td id=\"T_95273_row7_col10\" class=\"data row7 col10\" >189</td>\n",
              "      <td id=\"T_95273_row7_col11\" class=\"data row7 col11\" >189</td>\n",
              "      <td id=\"T_95273_row7_col12\" class=\"data row7 col12\" >150</td>\n",
              "      <td id=\"T_95273_row7_col13\" class=\"data row7 col13\" >189</td>\n",
              "      <td id=\"T_95273_row7_col14\" class=\"data row7 col14\" >205</td>\n",
              "      <td id=\"T_95273_row7_col15\" class=\"data row7 col15\" >254</td>\n",
              "      <td id=\"T_95273_row7_col16\" class=\"data row7 col16\" >254</td>\n",
              "      <td id=\"T_95273_row7_col17\" class=\"data row7 col17\" >254</td>\n",
              "      <td id=\"T_95273_row7_col18\" class=\"data row7 col18\" >75</td>\n",
              "      <td id=\"T_95273_row7_col19\" class=\"data row7 col19\" >0</td>\n",
              "    </tr>\n",
              "    <tr>\n",
              "      <th id=\"T_95273_level0_row8\" class=\"row_heading level0 row8\" >8</th>\n",
              "      <td id=\"T_95273_row8_col0\" class=\"data row8 col0\" >0</td>\n",
              "      <td id=\"T_95273_row8_col1\" class=\"data row8 col1\" >0</td>\n",
              "      <td id=\"T_95273_row8_col2\" class=\"data row8 col2\" >0</td>\n",
              "      <td id=\"T_95273_row8_col3\" class=\"data row8 col3\" >35</td>\n",
              "      <td id=\"T_95273_row8_col4\" class=\"data row8 col4\" >74</td>\n",
              "      <td id=\"T_95273_row8_col5\" class=\"data row8 col5\" >35</td>\n",
              "      <td id=\"T_95273_row8_col6\" class=\"data row8 col6\" >35</td>\n",
              "      <td id=\"T_95273_row8_col7\" class=\"data row8 col7\" >25</td>\n",
              "      <td id=\"T_95273_row8_col8\" class=\"data row8 col8\" >0</td>\n",
              "      <td id=\"T_95273_row8_col9\" class=\"data row8 col9\" >0</td>\n",
              "      <td id=\"T_95273_row8_col10\" class=\"data row8 col10\" >0</td>\n",
              "      <td id=\"T_95273_row8_col11\" class=\"data row8 col11\" >0</td>\n",
              "      <td id=\"T_95273_row8_col12\" class=\"data row8 col12\" >0</td>\n",
              "      <td id=\"T_95273_row8_col13\" class=\"data row8 col13\" >0</td>\n",
              "      <td id=\"T_95273_row8_col14\" class=\"data row8 col14\" >13</td>\n",
              "      <td id=\"T_95273_row8_col15\" class=\"data row8 col15\" >224</td>\n",
              "      <td id=\"T_95273_row8_col16\" class=\"data row8 col16\" >254</td>\n",
              "      <td id=\"T_95273_row8_col17\" class=\"data row8 col17\" >254</td>\n",
              "      <td id=\"T_95273_row8_col18\" class=\"data row8 col18\" >153</td>\n",
              "      <td id=\"T_95273_row8_col19\" class=\"data row8 col19\" >0</td>\n",
              "    </tr>\n",
              "    <tr>\n",
              "      <th id=\"T_95273_level0_row9\" class=\"row_heading level0 row9\" >9</th>\n",
              "      <td id=\"T_95273_row9_col0\" class=\"data row9 col0\" >0</td>\n",
              "      <td id=\"T_95273_row9_col1\" class=\"data row9 col1\" >0</td>\n",
              "      <td id=\"T_95273_row9_col2\" class=\"data row9 col2\" >0</td>\n",
              "      <td id=\"T_95273_row9_col3\" class=\"data row9 col3\" >0</td>\n",
              "      <td id=\"T_95273_row9_col4\" class=\"data row9 col4\" >0</td>\n",
              "      <td id=\"T_95273_row9_col5\" class=\"data row9 col5\" >0</td>\n",
              "      <td id=\"T_95273_row9_col6\" class=\"data row9 col6\" >0</td>\n",
              "      <td id=\"T_95273_row9_col7\" class=\"data row9 col7\" >0</td>\n",
              "      <td id=\"T_95273_row9_col8\" class=\"data row9 col8\" >0</td>\n",
              "      <td id=\"T_95273_row9_col9\" class=\"data row9 col9\" >0</td>\n",
              "      <td id=\"T_95273_row9_col10\" class=\"data row9 col10\" >0</td>\n",
              "      <td id=\"T_95273_row9_col11\" class=\"data row9 col11\" >0</td>\n",
              "      <td id=\"T_95273_row9_col12\" class=\"data row9 col12\" >0</td>\n",
              "      <td id=\"T_95273_row9_col13\" class=\"data row9 col13\" >0</td>\n",
              "      <td id=\"T_95273_row9_col14\" class=\"data row9 col14\" >90</td>\n",
              "      <td id=\"T_95273_row9_col15\" class=\"data row9 col15\" >254</td>\n",
              "      <td id=\"T_95273_row9_col16\" class=\"data row9 col16\" >254</td>\n",
              "      <td id=\"T_95273_row9_col17\" class=\"data row9 col17\" >247</td>\n",
              "      <td id=\"T_95273_row9_col18\" class=\"data row9 col18\" >53</td>\n",
              "      <td id=\"T_95273_row9_col19\" class=\"data row9 col19\" >0</td>\n",
              "    </tr>\n",
              "  </tbody>\n",
              "</table>\n"
            ]
          },
          "metadata": {},
          "execution_count": 11
        }
      ]
    },
    {
      "cell_type": "code",
      "source": [
        "(im3_t[4:7, 6:9] *top_edge).sum()"
      ],
      "metadata": {
        "colab": {
          "base_uri": "https://localhost:8080/"
        },
        "id": "PVuzpMr3suh3",
        "outputId": "0a98876f-d6b0-4a3d-d50f-059e29ff7826"
      },
      "execution_count": 12,
      "outputs": [
        {
          "output_type": "execute_result",
          "data": {
            "text/plain": [
              "tensor(762.)"
            ]
          },
          "metadata": {},
          "execution_count": 12
        }
      ]
    },
    {
      "cell_type": "code",
      "source": [
        "(im3_t[7:10,17:20]*top_edge).sum()"
      ],
      "metadata": {
        "colab": {
          "base_uri": "https://localhost:8080/"
        },
        "id": "gf6g05SftJ93",
        "outputId": "1217e9d9-7272-47b1-83ad-84b76a7996d0"
      },
      "execution_count": 13,
      "outputs": [
        {
          "output_type": "execute_result",
          "data": {
            "text/plain": [
              "tensor(-29.)"
            ]
          },
          "metadata": {},
          "execution_count": 13
        }
      ]
    },
    {
      "cell_type": "code",
      "source": [
        "def apply_kernel(row, col, kernel):\n",
        "  return (im3_t[row-1:row+2, col-1:col+2]*kernel).sum()\n"
      ],
      "metadata": {
        "id": "xXMT3nPHt-NS"
      },
      "execution_count": 14,
      "outputs": []
    },
    {
      "cell_type": "code",
      "source": [
        "apply_kernel(5,7,top_edge)"
      ],
      "metadata": {
        "colab": {
          "base_uri": "https://localhost:8080/"
        },
        "id": "ATgCMgBzvV_c",
        "outputId": "fcd2c696-4dc6-4a47-8c19-2dcdf7c0c7da"
      },
      "execution_count": 15,
      "outputs": [
        {
          "output_type": "execute_result",
          "data": {
            "text/plain": [
              "tensor(762.)"
            ]
          },
          "metadata": {},
          "execution_count": 15
        }
      ]
    },
    {
      "cell_type": "code",
      "source": [
        "rng = range(1,27)\n",
        "\n",
        "top_edge3 = tensor([[apply_kernel(i,j,top_edge) for j in rng] for i in rng])\n"
      ],
      "metadata": {
        "id": "mfyIHogzvoGi"
      },
      "execution_count": 16,
      "outputs": []
    },
    {
      "cell_type": "code",
      "source": [
        "show_image(top_edge3)"
      ],
      "metadata": {
        "colab": {
          "base_uri": "https://localhost:8080/",
          "height": 101
        },
        "id": "iCo64ioTv76g",
        "outputId": "7166c07a-5c25-4c43-c274-b671a5d09d6d"
      },
      "execution_count": 17,
      "outputs": [
        {
          "output_type": "execute_result",
          "data": {
            "text/plain": [
              "<matplotlib.axes._subplots.AxesSubplot at 0x7fd3831bc850>"
            ]
          },
          "metadata": {},
          "execution_count": 17
        },
        {
          "output_type": "display_data",
          "data": {
            "text/plain": [
              "<Figure size 72x72 with 1 Axes>"
            ],
            "image/png": "[encoded data removed]"
          },
          "metadata": {
            "needs_background": "light"
          }
        }
      ]
    },
    {
      "cell_type": "code",
      "source": [
        "top_edge3\n",
        "#this is not top edges, but down edges"
      ],
      "metadata": {
        "id": "_SOgMHx-wBjL"
      },
      "execution_count": null,
      "outputs": []
    },
    {
      "cell_type": "code",
      "source": [
        "left_edge = tensor([\n",
        "                    [-1,1,0],\n",
        "                    [-1,1,0],\n",
        "                    [-1,1,0]\n",
        "]).float()\n",
        "#should be named right_edge, by the way"
      ],
      "metadata": {
        "id": "rgCcKszowf3u"
      },
      "execution_count": 20,
      "outputs": []
    },
    {
      "cell_type": "code",
      "source": [
        "left_edge3 = tensor([[apply_kernel(i,j,left_edge) for j in rng] for i in rng])"
      ],
      "metadata": {
        "id": "4yaXLhv-xBrj"
      },
      "execution_count": 21,
      "outputs": []
    },
    {
      "cell_type": "code",
      "source": [
        "show_image(left_edge3)"
      ],
      "metadata": {
        "colab": {
          "base_uri": "https://localhost:8080/",
          "height": 101
        },
        "id": "7Vpo-jK3xNmD",
        "outputId": "d19bd877-517a-4bfa-c87a-ff4ccd0aaa6f"
      },
      "execution_count": 23,
      "outputs": [
        {
          "output_type": "execute_result",
          "data": {
            "text/plain": [
              "<matplotlib.axes._subplots.AxesSubplot at 0x7fd3839e5310>"
            ]
          },
          "metadata": {},
          "execution_count": 23
        },
        {
          "output_type": "display_data",
          "data": {
            "text/plain": [
              "<Figure size 72x72 with 1 Axes>"
            ],
            "image/png": "[encoded data removed]"
          },
          "metadata": {
            "needs_background": "light"
          }
        }
      ]
    },
    {
      "cell_type": "code",
      "source": [
        "# this is not left edges, but right edges"
      ],
      "metadata": {
        "id": "_WdeQ4G5xpDE"
      },
      "execution_count": null,
      "outputs": []
    },
    {
      "cell_type": "markdown",
      "source": [
        "Convolutions in pytorch"
      ],
      "metadata": {
        "id": "3QzDm9fZxs0O"
      }
    },
    {
      "cell_type": "code",
      "source": [
        "diag1_edge = tensor([\n",
        "                     [0, -1, 1],\n",
        "                     [-1, 1, 0],\n",
        "                     [1, 0, 0]\n",
        "]).float()\n",
        "# why not last [1,0,-1] ?\n",
        "\n",
        "diag2_edge = tensor([\n",
        "                     [1,-1,0],\n",
        "                     [ 0,1,-1],\n",
        "                     [0,0,1]\n",
        "]).float()\n",
        "#why not last [-1,0,1] ?\n"
      ],
      "metadata": {
        "id": "chTUyCQqxu96"
      },
      "execution_count": 22,
      "outputs": []
    },
    {
      "cell_type": "code",
      "source": [
        "edge_kernels = torch.stack([left_edge, top_edge, diag1_edge, diag2_edge])\n",
        "edge_kernels.shape"
      ],
      "metadata": {
        "colab": {
          "base_uri": "https://localhost:8080/"
        },
        "id": "Ya3Fi3-YG2fe",
        "outputId": "fcc1ede6-886f-4a52-d1eb-f1e0aebe1c34"
      },
      "execution_count": 24,
      "outputs": [
        {
          "output_type": "execute_result",
          "data": {
            "text/plain": [
              "torch.Size([4, 3, 3])"
            ]
          },
          "metadata": {},
          "execution_count": 24
        }
      ]
    },
    {
      "cell_type": "code",
      "source": [
        "mnist = DataBlock(\n",
        "    (ImageBlock(cls=PILImageBW), CategoryBlock),\n",
        "    get_items = get_image_files,\n",
        "    splitter = GrandparentSplitter(),\n",
        "    get_y = parent_label\n",
        ")\n",
        "\n",
        "dls = mnist.dataloaders(path)\n",
        "xb, yb = first(dls.valid)\n",
        "xb.shape\n"
      ],
      "metadata": {
        "colab": {
          "base_uri": "https://localhost:8080/"
        },
        "id": "pfcKOBKZHN6a",
        "outputId": "352725c5-de9f-472c-e4ac-6adf4abfb59c"
      },
      "execution_count": 25,
      "outputs": [
        {
          "output_type": "execute_result",
          "data": {
            "text/plain": [
              "torch.Size([64, 1, 28, 28])"
            ]
          },
          "metadata": {},
          "execution_count": 25
        }
      ]
    },
    {
      "cell_type": "code",
      "source": [
        "xb, yb = to_cpu(xb), to_cpu(yb)"
      ],
      "metadata": {
        "id": "CycblNFcIVHa"
      },
      "execution_count": 26,
      "outputs": []
    },
    {
      "cell_type": "code",
      "source": [
        "edge_kernels.shape, edge_kernels.unsqueeze(1).shape"
      ],
      "metadata": {
        "colab": {
          "base_uri": "https://localhost:8080/"
        },
        "id": "JcCEQ-ci4sA7",
        "outputId": "023b1b31-9e36-449f-eb8a-d2c64481a21e"
      },
      "execution_count": 27,
      "outputs": [
        {
          "output_type": "execute_result",
          "data": {
            "text/plain": [
              "(torch.Size([4, 3, 3]), torch.Size([4, 1, 3, 3]))"
            ]
          },
          "metadata": {},
          "execution_count": 27
        }
      ]
    },
    {
      "cell_type": "code",
      "source": [
        "edge_kernels = edge_kernels.unsqueeze(1)"
      ],
      "metadata": {
        "id": "XI2ALKhI40fS"
      },
      "execution_count": 29,
      "outputs": []
    },
    {
      "cell_type": "code",
      "source": [
        "batch_features = F.conv2d(xb, edge_kernels)\n",
        "batch_features.shape"
      ],
      "metadata": {
        "colab": {
          "base_uri": "https://localhost:8080/"
        },
        "id": "RFTt2B_s47Ge",
        "outputId": "c2148e67-e4cc-4486-a7b3-0b86ba93aef8"
      },
      "execution_count": 30,
      "outputs": [
        {
          "output_type": "execute_result",
          "data": {
            "text/plain": [
              "torch.Size([64, 4, 26, 26])"
            ]
          },
          "metadata": {},
          "execution_count": 30
        }
      ]
    },
    {
      "cell_type": "code",
      "source": [
        "show_image(batch_features[0,0])"
      ],
      "metadata": {
        "colab": {
          "base_uri": "https://localhost:8080/",
          "height": 101
        },
        "id": "AXC_bNu15iT_",
        "outputId": "2cb2ff33-58f4-448d-9bc0-1fb579ce2109"
      },
      "execution_count": 31,
      "outputs": [
        {
          "output_type": "execute_result",
          "data": {
            "text/plain": [
              "<matplotlib.axes._subplots.AxesSubplot at 0x7fd37fc65a50>"
            ]
          },
          "metadata": {},
          "execution_count": 31
        },
        {
          "output_type": "display_data",
          "data": {
            "text/plain": [
              "<Figure size 72x72 with 1 Axes>"
            ],
            "image/png": "[encoded data removed]"
          },
          "metadata": {
            "needs_background": "light"
          }
        }
      ]
    },
    {
      "cell_type": "markdown",
      "source": [
        "Strides and padding"
      ],
      "metadata": {
        "id": "STp-gCpj5t8m"
      }
    },
    {
      "cell_type": "markdown",
      "source": [
        "understanding the convolution equations"
      ],
      "metadata": {
        "id": "oA5ULVPb63Ks"
      }
    },
    {
      "cell_type": "markdown",
      "source": [
        "OUR FIRST CONVOLUTIONAL NEURAL NETWORK"
      ],
      "metadata": {
        "id": "L3XZmfUJ7drz"
      }
    },
    {
      "cell_type": "code",
      "source": [
        "simple_net = nn.Sequential(\n",
        "    nn.Linear(28*28,30),\n",
        "    nn.ReLU(),\n",
        "    nn.Linear(30,1)\n",
        ")"
      ],
      "metadata": {
        "id": "EuMac37q5vNk"
      },
      "execution_count": 33,
      "outputs": []
    },
    {
      "cell_type": "code",
      "source": [
        "simple_net"
      ],
      "metadata": {
        "colab": {
          "base_uri": "https://localhost:8080/"
        },
        "id": "4_N6N2iA_X5N",
        "outputId": "af21b65a-d1b4-4f1b-8995-30ddb0bb737b"
      },
      "execution_count": 34,
      "outputs": [
        {
          "output_type": "execute_result",
          "data": {
            "text/plain": [
              "Sequential(\n",
              "  (0): Linear(in_features=784, out_features=30, bias=True)\n",
              "  (1): ReLU()\n",
              "  (2): Linear(in_features=30, out_features=1, bias=True)\n",
              ")"
            ]
          },
          "metadata": {},
          "execution_count": 34
        }
      ]
    },
    {
      "cell_type": "code",
      "source": [
        "broken_cnn = sequential(\n",
        "    nn.Conv2d(1,30,kernel_size=3, padding=1),\n",
        "    nn.ReLU(),\n",
        "    nn.Conv2d(30,1,kernel_size=3, padding=1)\n",
        ")"
      ],
      "metadata": {
        "id": "O4Vkc85P_g6C"
      },
      "execution_count": 39,
      "outputs": []
    },
    {
      "cell_type": "code",
      "source": [
        "broken_cnn"
      ],
      "metadata": {
        "colab": {
          "base_uri": "https://localhost:8080/"
        },
        "id": "oLUb4HlK_y9e",
        "outputId": "67779902-f03d-4e2a-fdda-ca8531ca1528"
      },
      "execution_count": 40,
      "outputs": [
        {
          "output_type": "execute_result",
          "data": {
            "text/plain": [
              "Sequential(\n",
              "  (0): Conv2d(1, 30, kernel_size=(3, 3), stride=(1, 1), padding=(1, 1))\n",
              "  (1): ReLU()\n",
              "  (2): Conv2d(30, 1, kernel_size=(3, 3), stride=(1, 1), padding=(1, 1))\n",
              ")"
            ]
          },
          "metadata": {},
          "execution_count": 40
        }
      ]
    },
    {
      "cell_type": "code",
      "source": [
        "broken_cnn(xb).shape"
      ],
      "metadata": {
        "colab": {
          "base_uri": "https://localhost:8080/"
        },
        "id": "woOxSz4u_-ZP",
        "outputId": "bf39d778-de3b-43dc-8ae3-68d9b45c29c7"
      },
      "execution_count": 50,
      "outputs": [
        {
          "output_type": "execute_result",
          "data": {
            "text/plain": [
              "torch.Size([64, 1, 28, 28])"
            ]
          },
          "metadata": {},
          "execution_count": 50
        }
      ]
    },
    {
      "cell_type": "code",
      "source": [
        "def conv(ni, nf, ks=3, act=True):\n",
        "  res = nn.Conv2d(ni, nf, stride=2, kernel_size=ks, padding=ks//2) # // et pas / \n",
        "  if act:\n",
        "    res = nn.Sequential(res, nn.ReLU())\n",
        "  return res"
      ],
      "metadata": {
        "id": "V8VPV34aAZix"
      },
      "execution_count": 55,
      "outputs": []
    },
    {
      "cell_type": "code",
      "source": [
        "simple_cnn = sequential(      # input is 28*28\n",
        "    conv(1,4),                # 14*14\n",
        "    conv(4,8),                # 7*7\n",
        "    conv(8,16),               # 4*4\n",
        "    conv(16,32),              # 2*2\n",
        "    conv(32,2, act=False),    # 1*1\n",
        "    Flatten()\n",
        ")"
      ],
      "metadata": {
        "id": "YewtsfxXFC16"
      },
      "execution_count": 56,
      "outputs": []
    },
    {
      "cell_type": "code",
      "source": [
        "# debugging\n",
        "simple_cnn2 = sequential(      # input is 28*28\n",
        "    nn.Conv2d(1,4, stride=2,kernel_size=3, padding=1),    \n",
        "    nn.ReLU(),  \n",
        "    nn.Conv2d(4,8, stride=2,kernel_size=3, padding=1),        \n",
        "    nn.ReLU(),   \n",
        "    nn.Conv2d(8,16, stride=2, kernel_size=3, padding=1),              \n",
        "    nn.ReLU(),   \n",
        "    nn.Conv2d(16,32, stride=2,kernel_size=3, padding=1),             \n",
        "    nn.ReLU(), \n",
        "    nn.Conv2d(32,2, stride=2,kernel_size=3, padding=1),                 \n",
        "    Flatten()\n",
        ")"
      ],
      "metadata": {
        "id": "ig_v-qqgBcMi"
      },
      "execution_count": 60,
      "outputs": []
    },
    {
      "cell_type": "code",
      "source": [
        "#test \n",
        "simple_cnn3 = sequential(      # input is 28*28\n",
        "    conv(1,1),                # 14*14\n",
        "    conv(1,1),                # 7*7\n",
        "    conv(1,1),               # 4*4\n",
        "    conv(1,1),              # 2*2\n",
        "    conv(1,1, act=False),    # 1*1\n",
        "    Flatten()\n",
        ")"
      ],
      "metadata": {
        "id": "FMLf2AO1HPtN"
      },
      "execution_count": 65,
      "outputs": []
    },
    {
      "cell_type": "code",
      "source": [
        "simple_cnn3(xb).shape"
      ],
      "metadata": {
        "colab": {
          "base_uri": "https://localhost:8080/"
        },
        "id": "5lQMLickEkhL",
        "outputId": "87d8f564-5700-4ceb-ecdd-1ac3df197ed8"
      },
      "execution_count": 66,
      "outputs": [
        {
          "output_type": "execute_result",
          "data": {
            "text/plain": [
              "torch.Size([64, 1])"
            ]
          },
          "metadata": {},
          "execution_count": 66
        }
      ]
    },
    {
      "cell_type": "code",
      "source": [
        "learn = Learner(dls, simple_cnn, loss_func=F.cross_entropy, metrics=accuracy)"
      ],
      "metadata": {
        "id": "BbGftzqmGhTa"
      },
      "execution_count": 63,
      "outputs": []
    },
    {
      "cell_type": "code",
      "source": [
        "learn.summary()"
      ],
      "metadata": {
        "colab": {
          "base_uri": "https://localhost:8080/",
          "height": 658
        },
        "id": "aXUXyVwLGocu",
        "outputId": "9b33ea6e-1095-4f6d-bf67-1e5b2375bca2"
      },
      "execution_count": 64,
      "outputs": [
        {
          "output_type": "display_data",
          "data": {
            "text/plain": [
              "<IPython.core.display.HTML object>"
            ],
            "text/html": [
              "\n",
              "<style>\n",
              "    /* Turns off some styling */\n",
              "    progress {\n",
              "        /* gets rid of default border in Firefox and Opera. */\n",
              "        border: none;\n",
              "        /* Needs to be in here for Safari polyfill so background images work as expected. */\n",
              "        background-size: auto;\n",
              "    }\n",
              "    .progress-bar-interrupted, .progress-bar-interrupted::-webkit-progress-bar {\n",
              "        background: #F44336;\n",
              "    }\n",
              "</style>\n"
            ]
          },
          "metadata": {}
        },
        {
          "output_type": "display_data",
          "data": {
            "text/plain": [
              "<IPython.core.display.HTML object>"
            ],
            "text/html": [
              ""
            ]
          },
          "metadata": {}
        },
        {
          "output_type": "execute_result",
          "data": {
            "text/plain": [
              "Sequential (Input shape: 64 x 1 x 28 x 28)\n",
              "============================================================================\n",
              "Layer (type)         Output Shape         Param #    Trainable \n",
              "============================================================================\n",
              "                     64 x 4 x 14 x 14    \n",
              "Conv2d                                    40         True      \n",
              "ReLU                                                           \n",
              "____________________________________________________________________________\n",
              "                     64 x 8 x 7 x 7      \n",
              "Conv2d                                    296        True      \n",
              "ReLU                                                           \n",
              "____________________________________________________________________________\n",
              "                     64 x 16 x 4 x 4     \n",
              "Conv2d                                    1168       True      \n",
              "ReLU                                                           \n",
              "____________________________________________________________________________\n",
              "                     64 x 32 x 2 x 2     \n",
              "Conv2d                                    4640       True      \n",
              "ReLU                                                           \n",
              "____________________________________________________________________________\n",
              "                     64 x 2 x 1 x 1      \n",
              "Conv2d                                    578        True      \n",
              "____________________________________________________________________________\n",
              "                     64 x 2              \n",
              "Flatten                                                        \n",
              "____________________________________________________________________________\n",
              "\n",
              "Total params: 6,722\n",
              "Total trainable params: 6,722\n",
              "Total non-trainable params: 0\n",
              "\n",
              "Optimizer used: <function Adam at 0x7fd3846a8c20>\n",
              "Loss function: <function cross_entropy at 0x7fd39a2c4560>\n",
              "\n",
              "Callbacks:\n",
              "  - TrainEvalCallback\n",
              "  - CastToTensor\n",
              "  - Recorder\n",
              "  - ProgressCallback"
            ],
            "application/vnd.google.colaboratory.intrinsic+json": {
              "type": "string"
            }
          },
          "metadata": {},
          "execution_count": 64
        }
      ]
    },
    {
      "cell_type": "code",
      "source": [
        "learn.fit_one_cycle(2,0.01)"
      ],
      "metadata": {
        "colab": {
          "base_uri": "https://localhost:8080/",
          "height": 109
        },
        "id": "nJISDlONIIx-",
        "outputId": "ebc54393-0d53-4183-b753-3cbb67557f70"
      },
      "execution_count": 67,
      "outputs": [
        {
          "output_type": "display_data",
          "data": {
            "text/plain": [
              "<IPython.core.display.HTML object>"
            ],
            "text/html": [
              "\n",
              "<style>\n",
              "    /* Turns off some styling */\n",
              "    progress {\n",
              "        /* gets rid of default border in Firefox and Opera. */\n",
              "        border: none;\n",
              "        /* Needs to be in here for Safari polyfill so background images work as expected. */\n",
              "        background-size: auto;\n",
              "    }\n",
              "    .progress-bar-interrupted, .progress-bar-interrupted::-webkit-progress-bar {\n",
              "        background: #F44336;\n",
              "    }\n",
              "</style>\n"
            ]
          },
          "metadata": {}
        },
        {
          "output_type": "display_data",
          "data": {
            "text/plain": [
              "<IPython.core.display.HTML object>"
            ],
            "text/html": [
              "<table border=\"1\" class=\"dataframe\">\n",
              "  <thead>\n",
              "    <tr style=\"text-align: left;\">\n",
              "      <th>epoch</th>\n",
              "      <th>train_loss</th>\n",
              "      <th>valid_loss</th>\n",
              "      <th>accuracy</th>\n",
              "      <th>time</th>\n",
              "    </tr>\n",
              "  </thead>\n",
              "  <tbody>\n",
              "    <tr>\n",
              "      <td>0</td>\n",
              "      <td>0.060558</td>\n",
              "      <td>0.033095</td>\n",
              "      <td>0.989696</td>\n",
              "      <td>00:16</td>\n",
              "    </tr>\n",
              "    <tr>\n",
              "      <td>1</td>\n",
              "      <td>0.018126</td>\n",
              "      <td>0.021718</td>\n",
              "      <td>0.992149</td>\n",
              "      <td>00:16</td>\n",
              "    </tr>\n",
              "  </tbody>\n",
              "</table>"
            ]
          },
          "metadata": {}
        }
      ]
    },
    {
      "cell_type": "markdown",
      "source": [
        "Understanding convolution arithmetic"
      ],
      "metadata": {
        "id": "92hxWYtNIXIG"
      }
    },
    {
      "cell_type": "code",
      "source": [
        "m = learn.model[0]\n",
        "m"
      ],
      "metadata": {
        "colab": {
          "base_uri": "https://localhost:8080/"
        },
        "id": "hNwqxXDUIbpj",
        "outputId": "65452eb7-dc62-44ca-d1b1-f4fe9d144641"
      },
      "execution_count": 69,
      "outputs": [
        {
          "output_type": "execute_result",
          "data": {
            "text/plain": [
              "Sequential(\n",
              "  (0): Conv2d(1, 4, kernel_size=(3, 3), stride=(2, 2), padding=(1, 1))\n",
              "  (1): ReLU()\n",
              ")"
            ]
          },
          "metadata": {},
          "execution_count": 69
        }
      ]
    },
    {
      "cell_type": "code",
      "source": [
        "m[0].weight.shape"
      ],
      "metadata": {
        "colab": {
          "base_uri": "https://localhost:8080/"
        },
        "id": "Z8Pep-WDIzXc",
        "outputId": "f422cdca-31ba-4e93-951c-36c8d9dfb2b1"
      },
      "execution_count": 70,
      "outputs": [
        {
          "output_type": "execute_result",
          "data": {
            "text/plain": [
              "torch.Size([4, 1, 3, 3])"
            ]
          },
          "metadata": {},
          "execution_count": 70
        }
      ]
    },
    {
      "cell_type": "code",
      "source": [
        "m[0].bias.shape"
      ],
      "metadata": {
        "colab": {
          "base_uri": "https://localhost:8080/"
        },
        "id": "dUarXJJQI72Z",
        "outputId": "92769203-12d8-4989-a2d6-f61bf2e3d28e"
      },
      "execution_count": 71,
      "outputs": [
        {
          "output_type": "execute_result",
          "data": {
            "text/plain": [
              "torch.Size([4])"
            ]
          },
          "metadata": {},
          "execution_count": 71
        }
      ]
    },
    {
      "cell_type": "markdown",
      "source": [
        "Receptive fields"
      ],
      "metadata": {
        "id": "kTkKkH0cKaV_"
      }
    },
    {
      "cell_type": "markdown",
      "source": [
        "IMPROVING TRAINING STABILITY"
      ],
      "metadata": {
        "id": "93IAW3FVO-B1"
      }
    },
    {
      "cell_type": "code",
      "source": [
        "path = untar_data(URLs.MNIST)"
      ],
      "metadata": {
        "colab": {
          "base_uri": "https://localhost:8080/",
          "height": 36
        },
        "id": "Wu_Umf2FKCLH",
        "outputId": "9fc65643-6924-4e21-c2a3-988ae555e43a"
      },
      "execution_count": 75,
      "outputs": [
        {
          "output_type": "display_data",
          "data": {
            "text/plain": [
              "<IPython.core.display.HTML object>"
            ],
            "text/html": [
              "\n",
              "<style>\n",
              "    /* Turns off some styling */\n",
              "    progress {\n",
              "        /* gets rid of default border in Firefox and Opera. */\n",
              "        border: none;\n",
              "        /* Needs to be in here for Safari polyfill so background images work as expected. */\n",
              "        background-size: auto;\n",
              "    }\n",
              "    .progress-bar-interrupted, .progress-bar-interrupted::-webkit-progress-bar {\n",
              "        background: #F44336;\n",
              "    }\n",
              "</style>\n"
            ]
          },
          "metadata": {}
        },
        {
          "output_type": "display_data",
          "data": {
            "text/plain": [
              "<IPython.core.display.HTML object>"
            ],
            "text/html": [
              "\n",
              "    <div>\n",
              "      <progress value='15687680' class='' max='15683414' style='width:300px; height:20px; vertical-align: middle;'></progress>\n",
              "      100.03% [15687680/15683414 00:00<00:00]\n",
              "    </div>\n",
              "    "
            ]
          },
          "metadata": {}
        }
      ]
    },
    {
      "cell_type": "code",
      "source": [
        "def get_dls(bs=64):\n",
        "  return DataBlock(\n",
        "      blocks=(ImageBlock(cls=PILImageBW), CategoryBlock),\n",
        "      get_items = get_image_files,\n",
        "      splitter=GrandparentSplitter('training', 'testing'),\n",
        "      get_y=parent_label,\n",
        "      batch_tfms=Normalize()\n",
        "  ).dataloaders(path, bs=bs)"
      ],
      "metadata": {
        "id": "v-UqqlTEPKy9"
      },
      "execution_count": 77,
      "outputs": []
    },
    {
      "cell_type": "code",
      "source": [
        "dls = get_dls()"
      ],
      "metadata": {
        "id": "NGNh7OkIPqAK"
      },
      "execution_count": 81,
      "outputs": []
    },
    {
      "cell_type": "code",
      "source": [
        "dls"
      ],
      "metadata": {
        "colab": {
          "base_uri": "https://localhost:8080/"
        },
        "id": "mBu1g-1HP_to",
        "outputId": "446fea4f-51ea-45f9-fba9-4a4473e22f99"
      },
      "execution_count": 80,
      "outputs": [
        {
          "output_type": "execute_result",
          "data": {
            "text/plain": [
              "<function __main__.get_dls>"
            ]
          },
          "metadata": {},
          "execution_count": 80
        }
      ]
    },
    {
      "cell_type": "code",
      "source": [
        "dls.show_batch(max_n=9, figsize=(4,4))"
      ],
      "metadata": {
        "colab": {
          "base_uri": "https://localhost:8080/",
          "height": 263
        },
        "id": "kpDtsn8hPvDC",
        "outputId": "f113a1b1-6b85-41aa-9a11-00e69631d349"
      },
      "execution_count": 82,
      "outputs": [
        {
          "output_type": "display_data",
          "data": {
            "text/plain": [
              "<Figure size 288x288 with 9 Axes>"
            ],
            "image/png": "[encoded data removed]"
          },
          "metadata": {
            "needs_background": "light"
          }
        }
      ]
    },
    {
      "cell_type": "markdown",
      "source": [
        "A simple baseline"
      ],
      "metadata": {
        "id": "qbZ_WaogQP07"
      }
    },
    {
      "cell_type": "code",
      "source": [
        "def conv(ni, nf, ks=3, act=True):\n",
        "  res = nn.Conv2d(ni, nf, stride=2, kernel_size=ks, padding=ks//2) # // et pas / \n",
        "  if act:\n",
        "    res = nn.Sequential(res, nn.ReLU())\n",
        "  return res"
      ],
      "metadata": {
        "id": "SLMhTHmyQOuo"
      },
      "execution_count": 83,
      "outputs": []
    },
    {
      "cell_type": "code",
      "source": [
        "def simple_cnn():\n",
        "  return sequential(\n",
        "      conv(1,8,ks=5),   #14x14\n",
        "      conv(8,16),       #7x7\n",
        "      conv(16,32),      #4x4\n",
        "      conv(32,64),      #2x2\n",
        "      conv(64,10, act=False), #1x1\n",
        "      Flatten()\n",
        "  )"
      ],
      "metadata": {
        "id": "sOufPLBbQ8oV"
      },
      "execution_count": 84,
      "outputs": []
    },
    {
      "cell_type": "code",
      "source": [
        "from fastai.callback.hook import *"
      ],
      "metadata": {
        "id": "OeUW-UqbSVTc"
      },
      "execution_count": 85,
      "outputs": []
    },
    {
      "cell_type": "code",
      "source": [
        "def fit(epochs=1):\n",
        "  learn = Learner(dls, simple_cnn(), loss_func=F.cross_entropy, metrics=accuracy, cbs=ActivationStats(with_hist=True))\n",
        "  learn.fit(epochs, 0.06)\n",
        "  return learn"
      ],
      "metadata": {
        "id": "neSNdUjfSfh4"
      },
      "execution_count": 86,
      "outputs": []
    },
    {
      "cell_type": "code",
      "source": [
        "learn=fit()"
      ],
      "metadata": {
        "colab": {
          "base_uri": "https://localhost:8080/",
          "height": 111
        },
        "id": "3eQFHyddSzQ6",
        "outputId": "e2ecddd7-bf25-43a7-f22e-611bb47a326e"
      },
      "execution_count": 87,
      "outputs": [
        {
          "output_type": "stream",
          "name": "stderr",
          "text": [
            "/usr/local/lib/python3.7/dist-packages/fastai/callback/core.py:72: UserWarning: You are shadowing an attribute (modules) that exists in the learner. Use `self.learn.modules` to avoid this\n",
            "  warn(f\"You are shadowing an attribute ({name}) that exists in the learner. Use `self.learn.{name}` to avoid this\")\n"
          ]
        },
        {
          "output_type": "display_data",
          "data": {
            "text/plain": [
              "<IPython.core.display.HTML object>"
            ],
            "text/html": [
              "\n",
              "<style>\n",
              "    /* Turns off some styling */\n",
              "    progress {\n",
              "        /* gets rid of default border in Firefox and Opera. */\n",
              "        border: none;\n",
              "        /* Needs to be in here for Safari polyfill so background images work as expected. */\n",
              "        background-size: auto;\n",
              "    }\n",
              "    .progress-bar-interrupted, .progress-bar-interrupted::-webkit-progress-bar {\n",
              "        background: #F44336;\n",
              "    }\n",
              "</style>\n"
            ]
          },
          "metadata": {}
        },
        {
          "output_type": "display_data",
          "data": {
            "text/plain": [
              "<IPython.core.display.HTML object>"
            ],
            "text/html": [
              "<table border=\"1\" class=\"dataframe\">\n",
              "  <thead>\n",
              "    <tr style=\"text-align: left;\">\n",
              "      <th>epoch</th>\n",
              "      <th>train_loss</th>\n",
              "      <th>valid_loss</th>\n",
              "      <th>accuracy</th>\n",
              "      <th>time</th>\n",
              "    </tr>\n",
              "  </thead>\n",
              "  <tbody>\n",
              "    <tr>\n",
              "      <td>0</td>\n",
              "      <td>2.307075</td>\n",
              "      <td>2.302862</td>\n",
              "      <td>0.103200</td>\n",
              "      <td>01:30</td>\n",
              "    </tr>\n",
              "  </tbody>\n",
              "</table>"
            ]
          },
          "metadata": {}
        }
      ]
    },
    {
      "cell_type": "code",
      "source": [
        "learn.activation_stats.plot_layer_stats(0)"
      ],
      "metadata": {
        "colab": {
          "base_uri": "https://localhost:8080/",
          "height": 227
        },
        "id": "YsAr0ofXTB_V",
        "outputId": "f66d2010-5d37-4bac-b6f9-71fb36ba269e"
      },
      "execution_count": 88,
      "outputs": [
        {
          "output_type": "display_data",
          "data": {
            "text/plain": [
              "<Figure size 864x216 with 3 Axes>"
            ],
            "image/png": "[encoded data removed]"
          },
          "metadata": {
            "needs_background": "light"
          }
        }
      ]
    },
    {
      "cell_type": "code",
      "source": [
        "learn.activation_stats.plot_layer_stats(-2)"
      ],
      "metadata": {
        "colab": {
          "base_uri": "https://localhost:8080/",
          "height": 227
        },
        "id": "zVyg6w29TTFQ",
        "outputId": "1763df58-8977-48ef-b5da-0c8e4b2a3af3"
      },
      "execution_count": 89,
      "outputs": [
        {
          "output_type": "display_data",
          "data": {
            "text/plain": [
              "<Figure size 864x216 with 3 Axes>"
            ],
            "image/png": "[encoded data removed]"
          },
          "metadata": {
            "needs_background": "light"
          }
        }
      ]
    },
    {
      "cell_type": "markdown",
      "source": [
        "Increase batch size"
      ],
      "metadata": {
        "id": "FbnIW1P3TaF4"
      }
    },
    {
      "cell_type": "code",
      "source": [
        "dls=get_dls(512)"
      ],
      "metadata": {
        "id": "rO4NjfwVTbrl"
      },
      "execution_count": 90,
      "outputs": []
    },
    {
      "cell_type": "code",
      "source": [
        "learn=fit()"
      ],
      "metadata": {
        "colab": {
          "base_uri": "https://localhost:8080/",
          "height": 111
        },
        "id": "2ENXyjFLVez4",
        "outputId": "9b716ca4-2a6d-41fa-902d-5dc90060f1cc"
      },
      "execution_count": 91,
      "outputs": [
        {
          "output_type": "stream",
          "name": "stderr",
          "text": [
            "/usr/local/lib/python3.7/dist-packages/fastai/callback/core.py:72: UserWarning: You are shadowing an attribute (modules) that exists in the learner. Use `self.learn.modules` to avoid this\n",
            "  warn(f\"You are shadowing an attribute ({name}) that exists in the learner. Use `self.learn.{name}` to avoid this\")\n"
          ]
        },
        {
          "output_type": "display_data",
          "data": {
            "text/plain": [
              "<IPython.core.display.HTML object>"
            ],
            "text/html": [
              "\n",
              "<style>\n",
              "    /* Turns off some styling */\n",
              "    progress {\n",
              "        /* gets rid of default border in Firefox and Opera. */\n",
              "        border: none;\n",
              "        /* Needs to be in here for Safari polyfill so background images work as expected. */\n",
              "        background-size: auto;\n",
              "    }\n",
              "    .progress-bar-interrupted, .progress-bar-interrupted::-webkit-progress-bar {\n",
              "        background: #F44336;\n",
              "    }\n",
              "</style>\n"
            ]
          },
          "metadata": {}
        },
        {
          "output_type": "display_data",
          "data": {
            "text/plain": [
              "<IPython.core.display.HTML object>"
            ],
            "text/html": [
              "<table border=\"1\" class=\"dataframe\">\n",
              "  <thead>\n",
              "    <tr style=\"text-align: left;\">\n",
              "      <th>epoch</th>\n",
              "      <th>train_loss</th>\n",
              "      <th>valid_loss</th>\n",
              "      <th>accuracy</th>\n",
              "      <th>time</th>\n",
              "    </tr>\n",
              "  </thead>\n",
              "  <tbody>\n",
              "    <tr>\n",
              "      <td>0</td>\n",
              "      <td>2.314630</td>\n",
              "      <td>2.303786</td>\n",
              "      <td>0.113500</td>\n",
              "      <td>01:17</td>\n",
              "    </tr>\n",
              "  </tbody>\n",
              "</table>"
            ]
          },
          "metadata": {}
        }
      ]
    },
    {
      "cell_type": "markdown",
      "source": [
        "1 cycle training"
      ],
      "metadata": {
        "id": "2ck2FCyBVmvJ"
      }
    },
    {
      "cell_type": "code",
      "source": [
        "def fit(epochs=1, lr=0.06):\n",
        "  learn = Learner(dls, simple_cnn(), loss_func=F.cross_entropy, metrics=accuracy, cbs=ActivationStats(with_hist=True))\n",
        "  learn.fit_one_cycle(epochs, lr)\n",
        "  return learn"
      ],
      "metadata": {
        "id": "1axtlC75VoC_"
      },
      "execution_count": 96,
      "outputs": []
    },
    {
      "cell_type": "code",
      "source": [
        "learn=fit()"
      ],
      "metadata": {
        "colab": {
          "base_uri": "https://localhost:8080/",
          "height": 111
        },
        "id": "FaxUUGO5WO69",
        "outputId": "bff2db27-faec-4a79-8f37-cb1e4c71e06a"
      },
      "execution_count": 97,
      "outputs": [
        {
          "output_type": "stream",
          "name": "stderr",
          "text": [
            "/usr/local/lib/python3.7/dist-packages/fastai/callback/core.py:72: UserWarning: You are shadowing an attribute (modules) that exists in the learner. Use `self.learn.modules` to avoid this\n",
            "  warn(f\"You are shadowing an attribute ({name}) that exists in the learner. Use `self.learn.{name}` to avoid this\")\n"
          ]
        },
        {
          "output_type": "display_data",
          "data": {
            "text/plain": [
              "<IPython.core.display.HTML object>"
            ],
            "text/html": [
              "\n",
              "<style>\n",
              "    /* Turns off some styling */\n",
              "    progress {\n",
              "        /* gets rid of default border in Firefox and Opera. */\n",
              "        border: none;\n",
              "        /* Needs to be in here for Safari polyfill so background images work as expected. */\n",
              "        background-size: auto;\n",
              "    }\n",
              "    .progress-bar-interrupted, .progress-bar-interrupted::-webkit-progress-bar {\n",
              "        background: #F44336;\n",
              "    }\n",
              "</style>\n"
            ]
          },
          "metadata": {}
        },
        {
          "output_type": "display_data",
          "data": {
            "text/plain": [
              "<IPython.core.display.HTML object>"
            ],
            "text/html": [
              "<table border=\"1\" class=\"dataframe\">\n",
              "  <thead>\n",
              "    <tr style=\"text-align: left;\">\n",
              "      <th>epoch</th>\n",
              "      <th>train_loss</th>\n",
              "      <th>valid_loss</th>\n",
              "      <th>accuracy</th>\n",
              "      <th>time</th>\n",
              "    </tr>\n",
              "  </thead>\n",
              "  <tbody>\n",
              "    <tr>\n",
              "      <td>0</td>\n",
              "      <td>0.201497</td>\n",
              "      <td>0.066356</td>\n",
              "      <td>0.979300</td>\n",
              "      <td>01:18</td>\n",
              "    </tr>\n",
              "  </tbody>\n",
              "</table>"
            ]
          },
          "metadata": {}
        }
      ]
    },
    {
      "cell_type": "code",
      "source": [
        "learn.recorder.plot_sched()"
      ],
      "metadata": {
        "colab": {
          "base_uri": "https://localhost:8080/",
          "height": 264
        },
        "id": "jK9UDhMwWj-f",
        "outputId": "c80337d1-7487-46a1-8be7-378170619b44"
      },
      "execution_count": 98,
      "outputs": [
        {
          "output_type": "display_data",
          "data": {
            "text/plain": [
              "<Figure size 864x288 with 2 Axes>"
            ],
            "image/png": "[encoded data removed]"
          },
          "metadata": {
            "needs_background": "light"
          }
        }
      ]
    },
    {
      "cell_type": "code",
      "source": [
        "learn.activation_stats.plot_layer_stats(-2)"
      ],
      "metadata": {
        "colab": {
          "base_uri": "https://localhost:8080/",
          "height": 227
        },
        "id": "x4mlrraAXGM7",
        "outputId": "bf313d94-81e9-466c-df49-d45ab153964c"
      },
      "execution_count": 100,
      "outputs": [
        {
          "output_type": "display_data",
          "data": {
            "text/plain": [
              "<Figure size 864x216 with 3 Axes>"
            ],
            "image/png": "[encoded data removed]"
          },
          "metadata": {
            "needs_background": "light"
          }
        }
      ]
    },
    {
      "cell_type": "code",
      "source": [
        "learn.activation_stats.color_dim(-2)"
      ],
      "metadata": {
        "colab": {
          "base_uri": "https://localhost:8080/",
          "height": 221
        },
        "id": "aYDD43NpXQ8K",
        "outputId": "5a690f57-c7c5-450b-d72e-ccfd81ac8954"
      },
      "execution_count": 101,
      "outputs": [
        {
          "output_type": "display_data",
          "data": {
            "text/plain": [
              "<Figure size 720x360 with 1 Axes>"
            ],
            "image/png": "[encoded data removed]"
          },
          "metadata": {
            "needs_background": "light"
          }
        }
      ]
    },
    {
      "cell_type": "markdown",
      "source": [
        "Batch normalization"
      ],
      "metadata": {
        "id": "AQOhmgZ1cqLI"
      }
    },
    {
      "cell_type": "code",
      "source": [
        "def conv(ni, nf, ks=3, act=True):\n",
        "  layers = [nn.Conv2d(ni, nf, stride=2, kernel_size=ks, padding=ks//2)]\n",
        "  layers.append(nn.BatchNorm2d(nf))\n",
        "  if act:\n",
        "    layers.append(nn.ReLU())\n",
        "  return nn.Sequential(*layers)"
      ],
      "metadata": {
        "id": "gY_KKOB2cvjE"
      },
      "execution_count": 102,
      "outputs": []
    },
    {
      "cell_type": "code",
      "source": [
        "learn = fit()"
      ],
      "metadata": {
        "colab": {
          "base_uri": "https://localhost:8080/",
          "height": 111
        },
        "id": "VJ_78SSXdSEq",
        "outputId": "3389542e-b084-4080-ba54-99a7d4d4513d"
      },
      "execution_count": 103,
      "outputs": [
        {
          "output_type": "stream",
          "name": "stderr",
          "text": [
            "/usr/local/lib/python3.7/dist-packages/fastai/callback/core.py:72: UserWarning: You are shadowing an attribute (modules) that exists in the learner. Use `self.learn.modules` to avoid this\n",
            "  warn(f\"You are shadowing an attribute ({name}) that exists in the learner. Use `self.learn.{name}` to avoid this\")\n"
          ]
        },
        {
          "output_type": "display_data",
          "data": {
            "text/plain": [
              "<IPython.core.display.HTML object>"
            ],
            "text/html": [
              "\n",
              "<style>\n",
              "    /* Turns off some styling */\n",
              "    progress {\n",
              "        /* gets rid of default border in Firefox and Opera. */\n",
              "        border: none;\n",
              "        /* Needs to be in here for Safari polyfill so background images work as expected. */\n",
              "        background-size: auto;\n",
              "    }\n",
              "    .progress-bar-interrupted, .progress-bar-interrupted::-webkit-progress-bar {\n",
              "        background: #F44336;\n",
              "    }\n",
              "</style>\n"
            ]
          },
          "metadata": {}
        },
        {
          "output_type": "display_data",
          "data": {
            "text/plain": [
              "<IPython.core.display.HTML object>"
            ],
            "text/html": [
              "<table border=\"1\" class=\"dataframe\">\n",
              "  <thead>\n",
              "    <tr style=\"text-align: left;\">\n",
              "      <th>epoch</th>\n",
              "      <th>train_loss</th>\n",
              "      <th>valid_loss</th>\n",
              "      <th>accuracy</th>\n",
              "      <th>time</th>\n",
              "    </tr>\n",
              "  </thead>\n",
              "  <tbody>\n",
              "    <tr>\n",
              "      <td>0</td>\n",
              "      <td>0.132540</td>\n",
              "      <td>0.056156</td>\n",
              "      <td>0.986900</td>\n",
              "      <td>01:20</td>\n",
              "    </tr>\n",
              "  </tbody>\n",
              "</table>"
            ]
          },
          "metadata": {}
        }
      ]
    },
    {
      "cell_type": "code",
      "source": [
        "learn.activation_stats.color_dim(-4)"
      ],
      "metadata": {
        "colab": {
          "base_uri": "https://localhost:8080/",
          "height": 221
        },
        "id": "lEb9IELCdW1l",
        "outputId": "f604cc48-75db-44d5-b7f0-6cb9d0d46d5b"
      },
      "execution_count": 104,
      "outputs": [
        {
          "output_type": "display_data",
          "data": {
            "text/plain": [
              "<Figure size 720x360 with 1 Axes>"
            ],
            "image/png": "[encoded data removed]"
          },
          "metadata": {
            "needs_background": "light"
          }
        }
      ]
    },
    {
      "cell_type": "code",
      "source": [
        "learn = fit(5, lr=0.1)"
      ],
      "metadata": {
        "colab": {
          "base_uri": "https://localhost:8080/",
          "height": 249
        },
        "id": "BEZwQ_Avd4Qu",
        "outputId": "a95a742c-05c3-4c80-d14d-329ae976ff3c"
      },
      "execution_count": null,
      "outputs": [
        {
          "output_type": "stream",
          "name": "stderr",
          "text": [
            "/usr/local/lib/python3.7/dist-packages/fastai/callback/core.py:72: UserWarning: You are shadowing an attribute (modules) that exists in the learner. Use `self.learn.modules` to avoid this\n",
            "  warn(f\"You are shadowing an attribute ({name}) that exists in the learner. Use `self.learn.{name}` to avoid this\")\n"
          ]
        },
        {
          "output_type": "display_data",
          "data": {
            "text/plain": [
              "<IPython.core.display.HTML object>"
            ],
            "text/html": [
              "\n",
              "<style>\n",
              "    /* Turns off some styling */\n",
              "    progress {\n",
              "        /* gets rid of default border in Firefox and Opera. */\n",
              "        border: none;\n",
              "        /* Needs to be in here for Safari polyfill so background images work as expected. */\n",
              "        background-size: auto;\n",
              "    }\n",
              "    .progress-bar-interrupted, .progress-bar-interrupted::-webkit-progress-bar {\n",
              "        background: #F44336;\n",
              "    }\n",
              "</style>\n"
            ]
          },
          "metadata": {}
        },
        {
          "output_type": "display_data",
          "data": {
            "text/plain": [
              "<IPython.core.display.HTML object>"
            ],
            "text/html": [
              "\n",
              "    <div>\n",
              "      <progress value='4' class='' max='5' style='width:300px; height:20px; vertical-align: middle;'></progress>\n",
              "      80.00% [4/5 05:24<01:21]\n",
              "    </div>\n",
              "    \n",
              "<table border=\"1\" class=\"dataframe\">\n",
              "  <thead>\n",
              "    <tr style=\"text-align: left;\">\n",
              "      <th>epoch</th>\n",
              "      <th>train_loss</th>\n",
              "      <th>valid_loss</th>\n",
              "      <th>accuracy</th>\n",
              "      <th>time</th>\n",
              "    </tr>\n",
              "  </thead>\n",
              "  <tbody>\n",
              "    <tr>\n",
              "      <td>0</td>\n",
              "      <td>0.185855</td>\n",
              "      <td>0.098905</td>\n",
              "      <td>0.970500</td>\n",
              "      <td>01:20</td>\n",
              "    </tr>\n",
              "    <tr>\n",
              "      <td>1</td>\n",
              "      <td>0.081135</td>\n",
              "      <td>0.051511</td>\n",
              "      <td>0.982500</td>\n",
              "      <td>01:20</td>\n",
              "    </tr>\n",
              "    <tr>\n",
              "      <td>2</td>\n",
              "      <td>0.055304</td>\n",
              "      <td>0.050059</td>\n",
              "      <td>0.984700</td>\n",
              "      <td>01:21</td>\n",
              "    </tr>\n",
              "    <tr>\n",
              "      <td>3</td>\n",
              "      <td>0.033879</td>\n",
              "      <td>0.028964</td>\n",
              "      <td>0.991800</td>\n",
              "      <td>01:20</td>\n",
              "    </tr>\n",
              "  </tbody>\n",
              "</table><p>\n",
              "\n",
              "    <div>\n",
              "      <progress value='102' class='' max='117' style='width:300px; height:20px; vertical-align: middle;'></progress>\n",
              "      87.18% [102/117 01:01<00:09 0.0184]\n",
              "    </div>\n",
              "    "
            ]
          },
          "metadata": {}
        }
      ]
    }
  ]
}